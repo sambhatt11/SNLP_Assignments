{
  "nbformat": 4,
  "nbformat_minor": 0,
  "metadata": {
    "colab": {
      "provenance": []
    },
    "kernelspec": {
      "name": "python3",
      "display_name": "Python 3"
    },
    "language_info": {
      "name": "python"
    }
  },
  "cells": [
    {
      "cell_type": "markdown",
      "source": [
        "# **TASK 1**"
      ],
      "metadata": {
        "id": "M2_uYCS0UIA9"
      }
    },
    {
      "cell_type": "code",
      "source": [
        "!pip install thefuzz"
      ],
      "metadata": {
        "colab": {
          "base_uri": "https://localhost:8080/"
        },
        "id": "OKoXeH88POuC",
        "outputId": "22eabb10-36e4-425d-f46a-7a8584ac803f"
      },
      "execution_count": 53,
      "outputs": [
        {
          "output_type": "stream",
          "name": "stdout",
          "text": [
            "Requirement already satisfied: thefuzz in /usr/local/lib/python3.12/dist-packages (0.22.1)\n",
            "Requirement already satisfied: rapidfuzz<4.0.0,>=3.0.0 in /usr/local/lib/python3.12/dist-packages (from thefuzz) (3.14.0)\n"
          ]
        }
      ]
    },
    {
      "cell_type": "markdown",
      "source": [
        "## Importing the necessary libraries and dependencies"
      ],
      "metadata": {
        "id": "3tv97cFvRqT5"
      }
    },
    {
      "cell_type": "code",
      "source": [
        "import pandas as pd\n",
        "from thefuzz import fuzz, process\n",
        "from sklearn.feature_extraction.text import TfidfVectorizer\n",
        "from sklearn.metrics.pairwise import cosine_similarity\n"
      ],
      "metadata": {
        "id": "6omUhfhNRnbp"
      },
      "execution_count": 54,
      "outputs": []
    },
    {
      "cell_type": "markdown",
      "source": [
        "## Loading the dataset"
      ],
      "metadata": {
        "id": "5o_zyBPSR5a0"
      }
    },
    {
      "cell_type": "code",
      "source": [
        "new_queries = pd.read_csv(\"new_queries.csv\")\n",
        "resolved_queries = pd.read_csv(\"resolved_queries.csv\")"
      ],
      "metadata": {
        "id": "rzonpfv1R4rQ"
      },
      "execution_count": 55,
      "outputs": []
    },
    {
      "cell_type": "code",
      "source": [
        "new_queries, resolved_queries"
      ],
      "metadata": {
        "colab": {
          "base_uri": "https://localhost:8080/"
        },
        "id": "onM9vBkmYs8V",
        "outputId": "e58c0a34-7914-47cf-835a-ce97a4b6d541"
      },
      "execution_count": 56,
      "outputs": [
        {
          "output_type": "execute_result",
          "data": {
            "text/plain": [
              "(                              Variation_Query  Matches_With_Query_ID\n",
              " 0            Unabel to conect to the internet                      1\n",
              " 1                   Can’t connect to internet                      1\n",
              " 2                         Intenet not working                      1\n",
              " 3                Payment failed while chekout                      2\n",
              " 4   Payment did not go through during chckout                      2\n",
              " 5                  Payment issue at check out                      2\n",
              " 6    Application crashes when opening setings                      3\n",
              " 7            App crash when going to settings                      3\n",
              " 8            Settings cause the app to chrash                      3\n",
              " 9               Forgot passwrd and cant reset                      4\n",
              " 10        Forgotten password, unable to reset                      4\n",
              " 11                  I can’t reset my password                      4\n",
              " 12             Unable to uplod file to server                      5\n",
              " 13        Can't upload files on to the server                      5\n",
              " 14       File uploading to server not working                      5\n",
              " 15        No internet connection, please help                      1\n",
              " 16          Checkout page says payment failed                      2\n",
              " 17      Settings page crashes app immediately                      3\n",
              " 18            Password reset link not working                      4\n",
              " 19  Server upload fails with an error message                      5,\n",
              "    Query_ID                    Pre_Resolved_Query\n",
              " 0         1     Unable to connect to the internet\n",
              " 1         2        Payment failed during checkout\n",
              " 2         3     App crashes when opening settings\n",
              " 3         4   Forgot password and unable to reset\n",
              " 4         5  Unable to upload files to the server)"
            ]
          },
          "metadata": {},
          "execution_count": 56
        }
      ]
    },
    {
      "cell_type": "markdown",
      "source": [
        "## Text preprocessing: converting to lowercase and strip"
      ],
      "metadata": {
        "id": "37Em50T2SAFM"
      }
    },
    {
      "cell_type": "code",
      "source": [
        "new_queries[\"Variation_Query\"] = new_queries[\"Variation_Query\"].str.lower().str.strip()\n",
        "resolved_queries[\"Pre_Resolved_Query\"] = resolved_queries[\"Pre_Resolved_Query\"].str.lower().str.strip()\n"
      ],
      "metadata": {
        "id": "75K6ewJ5R_EG"
      },
      "execution_count": 57,
      "outputs": []
    },
    {
      "cell_type": "markdown",
      "source": [
        "## Performs fuzzy matching using all the methods, and opts the most optimal for each query"
      ],
      "metadata": {
        "id": "4QG6ffohSPN9"
      }
    },
    {
      "cell_type": "code",
      "source": [
        "def get_all_fuzzy_scores(query, df, threshold=70):\n",
        "    choices = df[\"Pre_Resolved_Query\"].tolist()\n",
        "    scores = {\n",
        "        \"ratio\": process.extractOne(query, choices, scorer=fuzz.ratio),\n",
        "        \"partial_ratio\": process.extractOne(query, choices, scorer=fuzz.partial_ratio),\n",
        "        \"token_sort_ratio\": process.extractOne(query, choices, scorer=fuzz.token_sort_ratio),\n",
        "        \"token_set_ratio\": process.extractOne(query, choices, scorer=fuzz.token_set_ratio),\n",
        "    }\n",
        "    best_method, best_result = max(scores.items(), key=lambda x: x[1][1])\n",
        "    if best_result and best_result[1] >= threshold:\n",
        "        # Find the Query_ID for the matched text\n",
        "        qid = df.loc[df[\"Pre_Resolved_Query\"] == best_result[0], \"Query_ID\"].values[0]\n",
        "        return best_method, best_result[0], qid, best_result[1]\n",
        "    return None, None, None, None\n",
        "\n",
        "fuzzy_results = []\n",
        "for uq in new_queries[\"Variation_Query\"]:\n",
        "    method, match, qid, score = get_all_fuzzy_scores(uq, resolved_queries)\n",
        "    fuzzy_results.append((uq, method, match, qid, score))\n",
        "\n",
        "fuzzy_df = pd.DataFrame(fuzzy_results, columns=[\n",
        "    \"Unresolved_Query\", \"Best_Method\", \"Fuzzy_Match\", \"Fuzzy_Query_ID\", \"Fuzzy_Score\"\n",
        "])"
      ],
      "metadata": {
        "id": "hNbLAyobSNZ7"
      },
      "execution_count": 58,
      "outputs": []
    },
    {
      "cell_type": "markdown",
      "source": [
        "## Tfidf and cosine similarity"
      ],
      "metadata": {
        "id": "v_PhX_tFSjIA"
      }
    },
    {
      "cell_type": "code",
      "source": [
        "vectorizer = TfidfVectorizer(stop_words=\"english\")\n",
        "tfidf_matrix = vectorizer.fit_transform(\n",
        "    new_queries[\"Variation_Query\"].tolist() + resolved_queries[\"Pre_Resolved_Query\"].tolist()\n",
        ")\n",
        "\n",
        "n_unresolved = len(new_queries)\n",
        "unresolved_vecs = tfidf_matrix[:n_unresolved]\n",
        "resolved_vecs = tfidf_matrix[n_unresolved:]\n",
        "\n",
        "cosine_sim = cosine_similarity(unresolved_vecs, resolved_vecs)\n",
        "\n",
        "tfidf_results = []\n",
        "for i, uq in enumerate(new_queries[\"Variation_Query\"]):\n",
        "    best_idx = cosine_sim[i].argmax()\n",
        "    best_score = cosine_sim[i][best_idx]\n",
        "    matched_row = resolved_queries.iloc[best_idx]\n",
        "    tfidf_results.append((uq, matched_row[\"Pre_Resolved_Query\"], matched_row[\"Query_ID\"], best_score))\n",
        "\n",
        "tfidf_df = pd.DataFrame(tfidf_results, columns=[\n",
        "    \"Unresolved_Query\", \"TFIDF_Match\", \"TFIDF_Query_ID\", \"TFIDF_Score\"\n",
        "])"
      ],
      "metadata": {
        "id": "nvTOJ1OSSgjT"
      },
      "execution_count": 59,
      "outputs": []
    },
    {
      "cell_type": "markdown",
      "source": [
        "## Combining the results using pd.merge"
      ],
      "metadata": {
        "id": "dWyVS_KBS0QN"
      }
    },
    {
      "cell_type": "code",
      "source": [
        "combined = pd.merge(fuzzy_df, tfidf_df, on=\"Unresolved_Query\", how=\"inner\")"
      ],
      "metadata": {
        "id": "_kO6IkzHSzJV"
      },
      "execution_count": 60,
      "outputs": []
    },
    {
      "cell_type": "markdown",
      "source": [
        "## Uses Tfidf or the best fuzzy search method as per the threshold"
      ],
      "metadata": {
        "id": "ElS3390nT1gG"
      }
    },
    {
      "cell_type": "code",
      "source": [
        "def pick_final(row, fuzzy_thresh=75, tfidf_thresh=0.65):\n",
        "    if row[\"Fuzzy_Score\"] and row[\"Fuzzy_Score\"] >= fuzzy_thresh:\n",
        "        return row[\"Fuzzy_Match\"], row[\"Fuzzy_Query_ID\"], f\"Fuzzy-{row['Best_Method']}\"\n",
        "    elif row[\"TFIDF_Score\"] >= tfidf_thresh:\n",
        "        return row[\"TFIDF_Match\"], row[\"TFIDF_Query_ID\"], \"TFIDF\"\n",
        "    else:\n",
        "        return None, None, \"No Match\"\n",
        "\n",
        "combined[[\"Final_Match\", \"Final_Query_ID\", \"Method_Used\"]] = combined.apply(\n",
        "    pick_final, axis=1, result_type=\"expand\"\n",
        ")"
      ],
      "metadata": {
        "id": "F69jF1vaQhxY"
      },
      "execution_count": 61,
      "outputs": []
    },
    {
      "cell_type": "markdown",
      "source": [
        "## Results"
      ],
      "metadata": {
        "id": "cF_b066gUBv0"
      }
    },
    {
      "cell_type": "code",
      "source": [
        "combined[['Unresolved_Query', 'Fuzzy_Match', 'Method_Used']]"
      ],
      "metadata": {
        "colab": {
          "base_uri": "https://localhost:8080/",
          "height": 677
        },
        "id": "wdL29KzwReRZ",
        "outputId": "0f187fc1-6be3-41a7-e238-be8ac8c68f16"
      },
      "execution_count": 62,
      "outputs": [
        {
          "output_type": "execute_result",
          "data": {
            "text/plain": [
              "                             Unresolved_Query  \\\n",
              "0            unabel to conect to the internet   \n",
              "1                   can’t connect to internet   \n",
              "2                         intenet not working   \n",
              "3                payment failed while chekout   \n",
              "4   payment did not go through during chckout   \n",
              "5                  payment issue at check out   \n",
              "6    application crashes when opening setings   \n",
              "7            app crash when going to settings   \n",
              "8            settings cause the app to chrash   \n",
              "9               forgot passwrd and cant reset   \n",
              "10        forgotten password, unable to reset   \n",
              "11                  i can’t reset my password   \n",
              "12             unable to uplod file to server   \n",
              "13        can't upload files on to the server   \n",
              "14       file uploading to server not working   \n",
              "15        no internet connection, please help   \n",
              "16          checkout page says payment failed   \n",
              "17      settings page crashes app immediately   \n",
              "18            password reset link not working   \n",
              "19  server upload fails with an error message   \n",
              "\n",
              "                             Fuzzy_Match            Method_Used  \n",
              "0      unable to connect to the internet            Fuzzy-ratio  \n",
              "1      unable to connect to the internet  Fuzzy-token_set_ratio  \n",
              "2                                   None               No Match  \n",
              "3         payment failed during checkout            Fuzzy-ratio  \n",
              "4         payment failed during checkout               No Match  \n",
              "5         payment failed during checkout               No Match  \n",
              "6      app crashes when opening settings    Fuzzy-partial_ratio  \n",
              "7      app crashes when opening settings            Fuzzy-ratio  \n",
              "8                                   None               No Match  \n",
              "9    forgot password and unable to reset            Fuzzy-ratio  \n",
              "10   forgot password and unable to reset            Fuzzy-ratio  \n",
              "11   forgot password and unable to reset                  TFIDF  \n",
              "12  unable to upload files to the server            Fuzzy-ratio  \n",
              "13  unable to upload files to the server    Fuzzy-partial_ratio  \n",
              "14                                  None               No Match  \n",
              "15     unable to connect to the internet  Fuzzy-token_set_ratio  \n",
              "16        payment failed during checkout  Fuzzy-token_set_ratio  \n",
              "17     app crashes when opening settings  Fuzzy-token_set_ratio  \n",
              "18                                  None               No Match  \n",
              "19                                  None               No Match  "
            ],
            "text/html": [
              "\n",
              "  <div id=\"df-4e9fed76-eff6-4a7d-8fb1-5c7c99d0370e\" class=\"colab-df-container\">\n",
              "    <div>\n",
              "<style scoped>\n",
              "    .dataframe tbody tr th:only-of-type {\n",
              "        vertical-align: middle;\n",
              "    }\n",
              "\n",
              "    .dataframe tbody tr th {\n",
              "        vertical-align: top;\n",
              "    }\n",
              "\n",
              "    .dataframe thead th {\n",
              "        text-align: right;\n",
              "    }\n",
              "</style>\n",
              "<table border=\"1\" class=\"dataframe\">\n",
              "  <thead>\n",
              "    <tr style=\"text-align: right;\">\n",
              "      <th></th>\n",
              "      <th>Unresolved_Query</th>\n",
              "      <th>Fuzzy_Match</th>\n",
              "      <th>Method_Used</th>\n",
              "    </tr>\n",
              "  </thead>\n",
              "  <tbody>\n",
              "    <tr>\n",
              "      <th>0</th>\n",
              "      <td>unabel to conect to the internet</td>\n",
              "      <td>unable to connect to the internet</td>\n",
              "      <td>Fuzzy-ratio</td>\n",
              "    </tr>\n",
              "    <tr>\n",
              "      <th>1</th>\n",
              "      <td>can’t connect to internet</td>\n",
              "      <td>unable to connect to the internet</td>\n",
              "      <td>Fuzzy-token_set_ratio</td>\n",
              "    </tr>\n",
              "    <tr>\n",
              "      <th>2</th>\n",
              "      <td>intenet not working</td>\n",
              "      <td>None</td>\n",
              "      <td>No Match</td>\n",
              "    </tr>\n",
              "    <tr>\n",
              "      <th>3</th>\n",
              "      <td>payment failed while chekout</td>\n",
              "      <td>payment failed during checkout</td>\n",
              "      <td>Fuzzy-ratio</td>\n",
              "    </tr>\n",
              "    <tr>\n",
              "      <th>4</th>\n",
              "      <td>payment did not go through during chckout</td>\n",
              "      <td>payment failed during checkout</td>\n",
              "      <td>No Match</td>\n",
              "    </tr>\n",
              "    <tr>\n",
              "      <th>5</th>\n",
              "      <td>payment issue at check out</td>\n",
              "      <td>payment failed during checkout</td>\n",
              "      <td>No Match</td>\n",
              "    </tr>\n",
              "    <tr>\n",
              "      <th>6</th>\n",
              "      <td>application crashes when opening setings</td>\n",
              "      <td>app crashes when opening settings</td>\n",
              "      <td>Fuzzy-partial_ratio</td>\n",
              "    </tr>\n",
              "    <tr>\n",
              "      <th>7</th>\n",
              "      <td>app crash when going to settings</td>\n",
              "      <td>app crashes when opening settings</td>\n",
              "      <td>Fuzzy-ratio</td>\n",
              "    </tr>\n",
              "    <tr>\n",
              "      <th>8</th>\n",
              "      <td>settings cause the app to chrash</td>\n",
              "      <td>None</td>\n",
              "      <td>No Match</td>\n",
              "    </tr>\n",
              "    <tr>\n",
              "      <th>9</th>\n",
              "      <td>forgot passwrd and cant reset</td>\n",
              "      <td>forgot password and unable to reset</td>\n",
              "      <td>Fuzzy-ratio</td>\n",
              "    </tr>\n",
              "    <tr>\n",
              "      <th>10</th>\n",
              "      <td>forgotten password, unable to reset</td>\n",
              "      <td>forgot password and unable to reset</td>\n",
              "      <td>Fuzzy-ratio</td>\n",
              "    </tr>\n",
              "    <tr>\n",
              "      <th>11</th>\n",
              "      <td>i can’t reset my password</td>\n",
              "      <td>forgot password and unable to reset</td>\n",
              "      <td>TFIDF</td>\n",
              "    </tr>\n",
              "    <tr>\n",
              "      <th>12</th>\n",
              "      <td>unable to uplod file to server</td>\n",
              "      <td>unable to upload files to the server</td>\n",
              "      <td>Fuzzy-ratio</td>\n",
              "    </tr>\n",
              "    <tr>\n",
              "      <th>13</th>\n",
              "      <td>can't upload files on to the server</td>\n",
              "      <td>unable to upload files to the server</td>\n",
              "      <td>Fuzzy-partial_ratio</td>\n",
              "    </tr>\n",
              "    <tr>\n",
              "      <th>14</th>\n",
              "      <td>file uploading to server not working</td>\n",
              "      <td>None</td>\n",
              "      <td>No Match</td>\n",
              "    </tr>\n",
              "    <tr>\n",
              "      <th>15</th>\n",
              "      <td>no internet connection, please help</td>\n",
              "      <td>unable to connect to the internet</td>\n",
              "      <td>Fuzzy-token_set_ratio</td>\n",
              "    </tr>\n",
              "    <tr>\n",
              "      <th>16</th>\n",
              "      <td>checkout page says payment failed</td>\n",
              "      <td>payment failed during checkout</td>\n",
              "      <td>Fuzzy-token_set_ratio</td>\n",
              "    </tr>\n",
              "    <tr>\n",
              "      <th>17</th>\n",
              "      <td>settings page crashes app immediately</td>\n",
              "      <td>app crashes when opening settings</td>\n",
              "      <td>Fuzzy-token_set_ratio</td>\n",
              "    </tr>\n",
              "    <tr>\n",
              "      <th>18</th>\n",
              "      <td>password reset link not working</td>\n",
              "      <td>None</td>\n",
              "      <td>No Match</td>\n",
              "    </tr>\n",
              "    <tr>\n",
              "      <th>19</th>\n",
              "      <td>server upload fails with an error message</td>\n",
              "      <td>None</td>\n",
              "      <td>No Match</td>\n",
              "    </tr>\n",
              "  </tbody>\n",
              "</table>\n",
              "</div>\n",
              "    <div class=\"colab-df-buttons\">\n",
              "\n",
              "  <div class=\"colab-df-container\">\n",
              "    <button class=\"colab-df-convert\" onclick=\"convertToInteractive('df-4e9fed76-eff6-4a7d-8fb1-5c7c99d0370e')\"\n",
              "            title=\"Convert this dataframe to an interactive table.\"\n",
              "            style=\"display:none;\">\n",
              "\n",
              "  <svg xmlns=\"http://www.w3.org/2000/svg\" height=\"24px\" viewBox=\"0 -960 960 960\">\n",
              "    <path d=\"M120-120v-720h720v720H120Zm60-500h600v-160H180v160Zm220 220h160v-160H400v160Zm0 220h160v-160H400v160ZM180-400h160v-160H180v160Zm440 0h160v-160H620v160ZM180-180h160v-160H180v160Zm440 0h160v-160H620v160Z\"/>\n",
              "  </svg>\n",
              "    </button>\n",
              "\n",
              "  <style>\n",
              "    .colab-df-container {\n",
              "      display:flex;\n",
              "      gap: 12px;\n",
              "    }\n",
              "\n",
              "    .colab-df-convert {\n",
              "      background-color: #E8F0FE;\n",
              "      border: none;\n",
              "      border-radius: 50%;\n",
              "      cursor: pointer;\n",
              "      display: none;\n",
              "      fill: #1967D2;\n",
              "      height: 32px;\n",
              "      padding: 0 0 0 0;\n",
              "      width: 32px;\n",
              "    }\n",
              "\n",
              "    .colab-df-convert:hover {\n",
              "      background-color: #E2EBFA;\n",
              "      box-shadow: 0px 1px 2px rgba(60, 64, 67, 0.3), 0px 1px 3px 1px rgba(60, 64, 67, 0.15);\n",
              "      fill: #174EA6;\n",
              "    }\n",
              "\n",
              "    .colab-df-buttons div {\n",
              "      margin-bottom: 4px;\n",
              "    }\n",
              "\n",
              "    [theme=dark] .colab-df-convert {\n",
              "      background-color: #3B4455;\n",
              "      fill: #D2E3FC;\n",
              "    }\n",
              "\n",
              "    [theme=dark] .colab-df-convert:hover {\n",
              "      background-color: #434B5C;\n",
              "      box-shadow: 0px 1px 3px 1px rgba(0, 0, 0, 0.15);\n",
              "      filter: drop-shadow(0px 1px 2px rgba(0, 0, 0, 0.3));\n",
              "      fill: #FFFFFF;\n",
              "    }\n",
              "  </style>\n",
              "\n",
              "    <script>\n",
              "      const buttonEl =\n",
              "        document.querySelector('#df-4e9fed76-eff6-4a7d-8fb1-5c7c99d0370e button.colab-df-convert');\n",
              "      buttonEl.style.display =\n",
              "        google.colab.kernel.accessAllowed ? 'block' : 'none';\n",
              "\n",
              "      async function convertToInteractive(key) {\n",
              "        const element = document.querySelector('#df-4e9fed76-eff6-4a7d-8fb1-5c7c99d0370e');\n",
              "        const dataTable =\n",
              "          await google.colab.kernel.invokeFunction('convertToInteractive',\n",
              "                                                    [key], {});\n",
              "        if (!dataTable) return;\n",
              "\n",
              "        const docLinkHtml = 'Like what you see? Visit the ' +\n",
              "          '<a target=\"_blank\" href=https://colab.research.google.com/notebooks/data_table.ipynb>data table notebook</a>'\n",
              "          + ' to learn more about interactive tables.';\n",
              "        element.innerHTML = '';\n",
              "        dataTable['output_type'] = 'display_data';\n",
              "        await google.colab.output.renderOutput(dataTable, element);\n",
              "        const docLink = document.createElement('div');\n",
              "        docLink.innerHTML = docLinkHtml;\n",
              "        element.appendChild(docLink);\n",
              "      }\n",
              "    </script>\n",
              "  </div>\n",
              "\n",
              "\n",
              "    <div id=\"df-5e14e83f-5db9-40a0-8c9a-cf3deda6b971\">\n",
              "      <button class=\"colab-df-quickchart\" onclick=\"quickchart('df-5e14e83f-5db9-40a0-8c9a-cf3deda6b971')\"\n",
              "                title=\"Suggest charts\"\n",
              "                style=\"display:none;\">\n",
              "\n",
              "<svg xmlns=\"http://www.w3.org/2000/svg\" height=\"24px\"viewBox=\"0 0 24 24\"\n",
              "     width=\"24px\">\n",
              "    <g>\n",
              "        <path d=\"M19 3H5c-1.1 0-2 .9-2 2v14c0 1.1.9 2 2 2h14c1.1 0 2-.9 2-2V5c0-1.1-.9-2-2-2zM9 17H7v-7h2v7zm4 0h-2V7h2v10zm4 0h-2v-4h2v4z\"/>\n",
              "    </g>\n",
              "</svg>\n",
              "      </button>\n",
              "\n",
              "<style>\n",
              "  .colab-df-quickchart {\n",
              "      --bg-color: #E8F0FE;\n",
              "      --fill-color: #1967D2;\n",
              "      --hover-bg-color: #E2EBFA;\n",
              "      --hover-fill-color: #174EA6;\n",
              "      --disabled-fill-color: #AAA;\n",
              "      --disabled-bg-color: #DDD;\n",
              "  }\n",
              "\n",
              "  [theme=dark] .colab-df-quickchart {\n",
              "      --bg-color: #3B4455;\n",
              "      --fill-color: #D2E3FC;\n",
              "      --hover-bg-color: #434B5C;\n",
              "      --hover-fill-color: #FFFFFF;\n",
              "      --disabled-bg-color: #3B4455;\n",
              "      --disabled-fill-color: #666;\n",
              "  }\n",
              "\n",
              "  .colab-df-quickchart {\n",
              "    background-color: var(--bg-color);\n",
              "    border: none;\n",
              "    border-radius: 50%;\n",
              "    cursor: pointer;\n",
              "    display: none;\n",
              "    fill: var(--fill-color);\n",
              "    height: 32px;\n",
              "    padding: 0;\n",
              "    width: 32px;\n",
              "  }\n",
              "\n",
              "  .colab-df-quickchart:hover {\n",
              "    background-color: var(--hover-bg-color);\n",
              "    box-shadow: 0 1px 2px rgba(60, 64, 67, 0.3), 0 1px 3px 1px rgba(60, 64, 67, 0.15);\n",
              "    fill: var(--button-hover-fill-color);\n",
              "  }\n",
              "\n",
              "  .colab-df-quickchart-complete:disabled,\n",
              "  .colab-df-quickchart-complete:disabled:hover {\n",
              "    background-color: var(--disabled-bg-color);\n",
              "    fill: var(--disabled-fill-color);\n",
              "    box-shadow: none;\n",
              "  }\n",
              "\n",
              "  .colab-df-spinner {\n",
              "    border: 2px solid var(--fill-color);\n",
              "    border-color: transparent;\n",
              "    border-bottom-color: var(--fill-color);\n",
              "    animation:\n",
              "      spin 1s steps(1) infinite;\n",
              "  }\n",
              "\n",
              "  @keyframes spin {\n",
              "    0% {\n",
              "      border-color: transparent;\n",
              "      border-bottom-color: var(--fill-color);\n",
              "      border-left-color: var(--fill-color);\n",
              "    }\n",
              "    20% {\n",
              "      border-color: transparent;\n",
              "      border-left-color: var(--fill-color);\n",
              "      border-top-color: var(--fill-color);\n",
              "    }\n",
              "    30% {\n",
              "      border-color: transparent;\n",
              "      border-left-color: var(--fill-color);\n",
              "      border-top-color: var(--fill-color);\n",
              "      border-right-color: var(--fill-color);\n",
              "    }\n",
              "    40% {\n",
              "      border-color: transparent;\n",
              "      border-right-color: var(--fill-color);\n",
              "      border-top-color: var(--fill-color);\n",
              "    }\n",
              "    60% {\n",
              "      border-color: transparent;\n",
              "      border-right-color: var(--fill-color);\n",
              "    }\n",
              "    80% {\n",
              "      border-color: transparent;\n",
              "      border-right-color: var(--fill-color);\n",
              "      border-bottom-color: var(--fill-color);\n",
              "    }\n",
              "    90% {\n",
              "      border-color: transparent;\n",
              "      border-bottom-color: var(--fill-color);\n",
              "    }\n",
              "  }\n",
              "</style>\n",
              "\n",
              "      <script>\n",
              "        async function quickchart(key) {\n",
              "          const quickchartButtonEl =\n",
              "            document.querySelector('#' + key + ' button');\n",
              "          quickchartButtonEl.disabled = true;  // To prevent multiple clicks.\n",
              "          quickchartButtonEl.classList.add('colab-df-spinner');\n",
              "          try {\n",
              "            const charts = await google.colab.kernel.invokeFunction(\n",
              "                'suggestCharts', [key], {});\n",
              "          } catch (error) {\n",
              "            console.error('Error during call to suggestCharts:', error);\n",
              "          }\n",
              "          quickchartButtonEl.classList.remove('colab-df-spinner');\n",
              "          quickchartButtonEl.classList.add('colab-df-quickchart-complete');\n",
              "        }\n",
              "        (() => {\n",
              "          let quickchartButtonEl =\n",
              "            document.querySelector('#df-5e14e83f-5db9-40a0-8c9a-cf3deda6b971 button');\n",
              "          quickchartButtonEl.style.display =\n",
              "            google.colab.kernel.accessAllowed ? 'block' : 'none';\n",
              "        })();\n",
              "      </script>\n",
              "    </div>\n",
              "\n",
              "    </div>\n",
              "  </div>\n"
            ],
            "application/vnd.google.colaboratory.intrinsic+json": {
              "type": "dataframe",
              "summary": "{\n  \"name\": \"combined[['Unresolved_Query', 'Fuzzy_Match', 'Method_Used']]\",\n  \"rows\": 20,\n  \"fields\": [\n    {\n      \"column\": \"Unresolved_Query\",\n      \"properties\": {\n        \"dtype\": \"string\",\n        \"num_unique_values\": 20,\n        \"samples\": [\n          \"unabel to conect to the internet\",\n          \"settings page crashes app immediately\",\n          \"no internet connection, please help\"\n        ],\n        \"semantic_type\": \"\",\n        \"description\": \"\"\n      }\n    },\n    {\n      \"column\": \"Fuzzy_Match\",\n      \"properties\": {\n        \"dtype\": \"category\",\n        \"num_unique_values\": 5,\n        \"samples\": [\n          \"payment failed during checkout\",\n          \"unable to upload files to the server\",\n          \"app crashes when opening settings\"\n        ],\n        \"semantic_type\": \"\",\n        \"description\": \"\"\n      }\n    },\n    {\n      \"column\": \"Method_Used\",\n      \"properties\": {\n        \"dtype\": \"category\",\n        \"num_unique_values\": 5,\n        \"samples\": [\n          \"Fuzzy-token_set_ratio\",\n          \"TFIDF\",\n          \"No Match\"\n        ],\n        \"semantic_type\": \"\",\n        \"description\": \"\"\n      }\n    }\n  ]\n}"
            }
          },
          "metadata": {},
          "execution_count": 62
        }
      ]
    },
    {
      "cell_type": "markdown",
      "source": [
        "# **TASK 2**"
      ],
      "metadata": {
        "id": "P0Z6icU9UPFs"
      }
    },
    {
      "cell_type": "markdown",
      "source": [
        "# Importing the libraries"
      ],
      "metadata": {
        "id": "rm-d0HcIW34Z"
      }
    },
    {
      "cell_type": "code",
      "source": [
        "import re"
      ],
      "metadata": {
        "id": "OnX3VkjVW-vc"
      },
      "execution_count": 63,
      "outputs": []
    },
    {
      "cell_type": "markdown",
      "source": [
        "## Loading the dataset"
      ],
      "metadata": {
        "id": "MnnNSrSrXwhl"
      }
    },
    {
      "cell_type": "code",
      "source": [
        "name_variations = pd.read_csv(\"name_variations.csv\")\n",
        "base_names = pd.read_csv(\"base_names.csv\")"
      ],
      "metadata": {
        "id": "fimYA_sHXqZG"
      },
      "execution_count": 64,
      "outputs": []
    },
    {
      "cell_type": "code",
      "source": [
        "base_names, name_variations"
      ],
      "metadata": {
        "colab": {
          "base_uri": "https://localhost:8080/"
        },
        "id": "dOsCyUhQXrh9",
        "outputId": "537b057a-6c3f-45d6-9c75-ef5dc2291f8c"
      },
      "execution_count": 65,
      "outputs": [
        {
          "output_type": "execute_result",
          "data": {
            "text/plain": [
              "(    Base_Name_ID          Base_Name\n",
              " 0              1         John Smith\n",
              " 1              2     Jennifer Brown\n",
              " 2              3   Michael O'Connor\n",
              " 3              4       Maria Garcia\n",
              " 4              5         Robert Lee\n",
              " 5              6      Linda Johnson\n",
              " 6              7      William Davis\n",
              " 7              8   Elizabeth Wilson\n",
              " 8              9     David Martinez\n",
              " 9             10        Susan Clark\n",
              " 10            11    James Rodriguez\n",
              " 11            12         Mary Lewis\n",
              " 12            13         Paul Allen\n",
              " 13            14        Karen Young\n",
              " 14            15        Thomas King\n",
              " 15            16       Nancy Wright\n",
              " 16            17       Daniel Scott\n",
              " 17            18        Sandra Hill\n",
              " 18            19  Christopher Green\n",
              " 19            20      Jessica Adams,\n",
              "           Variation Matches_With_Base_Name\n",
              " 0      Thomas  King            Thomas King\n",
              " 1        ThomasKing            Thomas King\n",
              " 2      Maria Garcia           Maria Garcia\n",
              " 3         MaryLewis             Mary Lewis\n",
              " 4          Nancy W.           Nancy Wright\n",
              " ..              ...                    ...\n",
              " 95  Jennifer- Brown         Jennifer Brown\n",
              " 96    Daniel- Scott           Daniel Scott\n",
              " 97         David M.         David Martinez\n",
              " 98      Paul Allen.             Paul Allen\n",
              " 99      Paul  Allen             Paul Allen\n",
              " \n",
              " [100 rows x 2 columns])"
            ]
          },
          "metadata": {},
          "execution_count": 65
        }
      ]
    },
    {
      "cell_type": "markdown",
      "source": [
        "## Preprocessing to handle single token, such as 'ThomasKing', but adding spacce in between, converting to lowercase, discarding any non-alphabetic characters, and removing unnecessary spaces"
      ],
      "metadata": {
        "id": "ETAb2nJ9XDqS"
      }
    },
    {
      "cell_type": "code",
      "source": [
        "def normalize_name(name: str) -> str:\n",
        "    if pd.isna(name):\n",
        "        return \"\"\n",
        "    name = name.strip()\n",
        "    name = re.sub(r'(?<=[a-z])(?=[A-Z])', ' ', name)\n",
        "    name = name.lower()\n",
        "    name = re.sub(r'[^a-z\\s]', '', name)\n",
        "    name = re.sub(r'\\s+', ' ', name).strip()\n",
        "    return name"
      ],
      "metadata": {
        "id": "_I16qea2VPT9"
      },
      "execution_count": 66,
      "outputs": []
    },
    {
      "cell_type": "markdown",
      "source": [
        "## Applying the function"
      ],
      "metadata": {
        "id": "gzpw-JQTX6zR"
      }
    },
    {
      "cell_type": "code",
      "source": [
        "name_variations[\"Normalized\"] = name_variations[\"Variation\"].astype(str).apply(normalize_name)\n",
        "base_names[\"Normalized\"] = base_names[\"Base_Name\"].astype(str).apply(normalize_name)"
      ],
      "metadata": {
        "id": "n1uglRQWX54x"
      },
      "execution_count": 67,
      "outputs": []
    },
    {
      "cell_type": "markdown",
      "source": [
        "## Matching using token_sort_ratio"
      ],
      "metadata": {
        "id": "MAwnrMOmYDrC"
      }
    },
    {
      "cell_type": "code",
      "source": [
        "def get_best_match(name, base_names, threshold=80):\n",
        "    match = process.extractOne(\n",
        "        name,\n",
        "        base_names[\"Normalized\"].tolist(),\n",
        "        scorer=fuzz.token_sort_ratio\n",
        "    )\n",
        "    if match and match[1] >= threshold:\n",
        "        # Get the original base name for reporting\n",
        "        matched_row = base_names.loc[base_names[\"Normalized\"] == match[0], \"Base_Name\"].values[0]\n",
        "        return matched_row, match[1]\n",
        "    return None, None"
      ],
      "metadata": {
        "id": "Br78BUKhYCYy"
      },
      "execution_count": 68,
      "outputs": []
    },
    {
      "cell_type": "markdown",
      "source": [
        "## Running the fuzzy match and appending to results"
      ],
      "metadata": {
        "id": "_Eo20nRCYOGR"
      }
    },
    {
      "cell_type": "code",
      "source": [
        "results = []\n",
        "for name, norm in zip(name_variations[\"Variation\"], name_variations[\"Normalized\"]):\n",
        "    matched_name, score = get_best_match(norm, base_names)\n",
        "    results.append((name, matched_name, score))\n"
      ],
      "metadata": {
        "id": "eA4bCBS9YMo-"
      },
      "execution_count": 69,
      "outputs": []
    },
    {
      "cell_type": "markdown",
      "source": [
        "## Converting to DataFrame"
      ],
      "metadata": {
        "id": "UGdC8t9OYdz3"
      }
    },
    {
      "cell_type": "code",
      "source": [
        "matches_df = pd.DataFrame(results, columns=[\"Variation_Name\", \"Matched_Base_Name\", \"Score\"])\n",
        "matches_df.head(15)"
      ],
      "metadata": {
        "colab": {
          "base_uri": "https://localhost:8080/",
          "height": 520
        },
        "id": "2LArnrG2YbTD",
        "outputId": "f143404e-c5e0-4b95-a491-1ed8214b3368"
      },
      "execution_count": 70,
      "outputs": [
        {
          "output_type": "execute_result",
          "data": {
            "text/plain": [
              "      Variation_Name Matched_Base_Name  Score\n",
              "0       Thomas  King       Thomas King  100.0\n",
              "1         ThomasKing       Thomas King  100.0\n",
              "2       Maria Garcia      Maria Garcia  100.0\n",
              "3          MaryLewis        Mary Lewis  100.0\n",
              "4           Nancy W.              None    NaN\n",
              "5       Dani3l Scott      Daniel Scott   96.0\n",
              "6        JOHN  smith        John Smith  100.0\n",
              "7      linda johnson     Linda Johnson  100.0\n",
              "8       N@ncy Wright      Nancy Wright   96.0\n",
              "9      William Davis     William Davis  100.0\n",
              "10      Susan  Clark       Susan Clark  100.0\n",
              "11        SusanClark       Susan Clark  100.0\n",
              "12   Jennifer- Brown    Jennifer Brown  100.0\n",
              "13  Michael O'Connor  Michael O'Connor  100.0\n",
              "14   Rodriguez James   James Rodriguez  100.0"
            ],
            "text/html": [
              "\n",
              "  <div id=\"df-92a5b3dc-aff4-497a-8559-9f5ac2b1e33c\" class=\"colab-df-container\">\n",
              "    <div>\n",
              "<style scoped>\n",
              "    .dataframe tbody tr th:only-of-type {\n",
              "        vertical-align: middle;\n",
              "    }\n",
              "\n",
              "    .dataframe tbody tr th {\n",
              "        vertical-align: top;\n",
              "    }\n",
              "\n",
              "    .dataframe thead th {\n",
              "        text-align: right;\n",
              "    }\n",
              "</style>\n",
              "<table border=\"1\" class=\"dataframe\">\n",
              "  <thead>\n",
              "    <tr style=\"text-align: right;\">\n",
              "      <th></th>\n",
              "      <th>Variation_Name</th>\n",
              "      <th>Matched_Base_Name</th>\n",
              "      <th>Score</th>\n",
              "    </tr>\n",
              "  </thead>\n",
              "  <tbody>\n",
              "    <tr>\n",
              "      <th>0</th>\n",
              "      <td>Thomas  King</td>\n",
              "      <td>Thomas King</td>\n",
              "      <td>100.0</td>\n",
              "    </tr>\n",
              "    <tr>\n",
              "      <th>1</th>\n",
              "      <td>ThomasKing</td>\n",
              "      <td>Thomas King</td>\n",
              "      <td>100.0</td>\n",
              "    </tr>\n",
              "    <tr>\n",
              "      <th>2</th>\n",
              "      <td>Maria Garcia</td>\n",
              "      <td>Maria Garcia</td>\n",
              "      <td>100.0</td>\n",
              "    </tr>\n",
              "    <tr>\n",
              "      <th>3</th>\n",
              "      <td>MaryLewis</td>\n",
              "      <td>Mary Lewis</td>\n",
              "      <td>100.0</td>\n",
              "    </tr>\n",
              "    <tr>\n",
              "      <th>4</th>\n",
              "      <td>Nancy W.</td>\n",
              "      <td>None</td>\n",
              "      <td>NaN</td>\n",
              "    </tr>\n",
              "    <tr>\n",
              "      <th>5</th>\n",
              "      <td>Dani3l Scott</td>\n",
              "      <td>Daniel Scott</td>\n",
              "      <td>96.0</td>\n",
              "    </tr>\n",
              "    <tr>\n",
              "      <th>6</th>\n",
              "      <td>JOHN  smith</td>\n",
              "      <td>John Smith</td>\n",
              "      <td>100.0</td>\n",
              "    </tr>\n",
              "    <tr>\n",
              "      <th>7</th>\n",
              "      <td>linda johnson</td>\n",
              "      <td>Linda Johnson</td>\n",
              "      <td>100.0</td>\n",
              "    </tr>\n",
              "    <tr>\n",
              "      <th>8</th>\n",
              "      <td>N@ncy Wright</td>\n",
              "      <td>Nancy Wright</td>\n",
              "      <td>96.0</td>\n",
              "    </tr>\n",
              "    <tr>\n",
              "      <th>9</th>\n",
              "      <td>William Davis</td>\n",
              "      <td>William Davis</td>\n",
              "      <td>100.0</td>\n",
              "    </tr>\n",
              "    <tr>\n",
              "      <th>10</th>\n",
              "      <td>Susan  Clark</td>\n",
              "      <td>Susan Clark</td>\n",
              "      <td>100.0</td>\n",
              "    </tr>\n",
              "    <tr>\n",
              "      <th>11</th>\n",
              "      <td>SusanClark</td>\n",
              "      <td>Susan Clark</td>\n",
              "      <td>100.0</td>\n",
              "    </tr>\n",
              "    <tr>\n",
              "      <th>12</th>\n",
              "      <td>Jennifer- Brown</td>\n",
              "      <td>Jennifer Brown</td>\n",
              "      <td>100.0</td>\n",
              "    </tr>\n",
              "    <tr>\n",
              "      <th>13</th>\n",
              "      <td>Michael O'Connor</td>\n",
              "      <td>Michael O'Connor</td>\n",
              "      <td>100.0</td>\n",
              "    </tr>\n",
              "    <tr>\n",
              "      <th>14</th>\n",
              "      <td>Rodriguez James</td>\n",
              "      <td>James Rodriguez</td>\n",
              "      <td>100.0</td>\n",
              "    </tr>\n",
              "  </tbody>\n",
              "</table>\n",
              "</div>\n",
              "    <div class=\"colab-df-buttons\">\n",
              "\n",
              "  <div class=\"colab-df-container\">\n",
              "    <button class=\"colab-df-convert\" onclick=\"convertToInteractive('df-92a5b3dc-aff4-497a-8559-9f5ac2b1e33c')\"\n",
              "            title=\"Convert this dataframe to an interactive table.\"\n",
              "            style=\"display:none;\">\n",
              "\n",
              "  <svg xmlns=\"http://www.w3.org/2000/svg\" height=\"24px\" viewBox=\"0 -960 960 960\">\n",
              "    <path d=\"M120-120v-720h720v720H120Zm60-500h600v-160H180v160Zm220 220h160v-160H400v160Zm0 220h160v-160H400v160ZM180-400h160v-160H180v160Zm440 0h160v-160H620v160ZM180-180h160v-160H180v160Zm440 0h160v-160H620v160Z\"/>\n",
              "  </svg>\n",
              "    </button>\n",
              "\n",
              "  <style>\n",
              "    .colab-df-container {\n",
              "      display:flex;\n",
              "      gap: 12px;\n",
              "    }\n",
              "\n",
              "    .colab-df-convert {\n",
              "      background-color: #E8F0FE;\n",
              "      border: none;\n",
              "      border-radius: 50%;\n",
              "      cursor: pointer;\n",
              "      display: none;\n",
              "      fill: #1967D2;\n",
              "      height: 32px;\n",
              "      padding: 0 0 0 0;\n",
              "      width: 32px;\n",
              "    }\n",
              "\n",
              "    .colab-df-convert:hover {\n",
              "      background-color: #E2EBFA;\n",
              "      box-shadow: 0px 1px 2px rgba(60, 64, 67, 0.3), 0px 1px 3px 1px rgba(60, 64, 67, 0.15);\n",
              "      fill: #174EA6;\n",
              "    }\n",
              "\n",
              "    .colab-df-buttons div {\n",
              "      margin-bottom: 4px;\n",
              "    }\n",
              "\n",
              "    [theme=dark] .colab-df-convert {\n",
              "      background-color: #3B4455;\n",
              "      fill: #D2E3FC;\n",
              "    }\n",
              "\n",
              "    [theme=dark] .colab-df-convert:hover {\n",
              "      background-color: #434B5C;\n",
              "      box-shadow: 0px 1px 3px 1px rgba(0, 0, 0, 0.15);\n",
              "      filter: drop-shadow(0px 1px 2px rgba(0, 0, 0, 0.3));\n",
              "      fill: #FFFFFF;\n",
              "    }\n",
              "  </style>\n",
              "\n",
              "    <script>\n",
              "      const buttonEl =\n",
              "        document.querySelector('#df-92a5b3dc-aff4-497a-8559-9f5ac2b1e33c button.colab-df-convert');\n",
              "      buttonEl.style.display =\n",
              "        google.colab.kernel.accessAllowed ? 'block' : 'none';\n",
              "\n",
              "      async function convertToInteractive(key) {\n",
              "        const element = document.querySelector('#df-92a5b3dc-aff4-497a-8559-9f5ac2b1e33c');\n",
              "        const dataTable =\n",
              "          await google.colab.kernel.invokeFunction('convertToInteractive',\n",
              "                                                    [key], {});\n",
              "        if (!dataTable) return;\n",
              "\n",
              "        const docLinkHtml = 'Like what you see? Visit the ' +\n",
              "          '<a target=\"_blank\" href=https://colab.research.google.com/notebooks/data_table.ipynb>data table notebook</a>'\n",
              "          + ' to learn more about interactive tables.';\n",
              "        element.innerHTML = '';\n",
              "        dataTable['output_type'] = 'display_data';\n",
              "        await google.colab.output.renderOutput(dataTable, element);\n",
              "        const docLink = document.createElement('div');\n",
              "        docLink.innerHTML = docLinkHtml;\n",
              "        element.appendChild(docLink);\n",
              "      }\n",
              "    </script>\n",
              "  </div>\n",
              "\n",
              "\n",
              "    <div id=\"df-70974659-5b2d-4b74-86b6-712a65a27adc\">\n",
              "      <button class=\"colab-df-quickchart\" onclick=\"quickchart('df-70974659-5b2d-4b74-86b6-712a65a27adc')\"\n",
              "                title=\"Suggest charts\"\n",
              "                style=\"display:none;\">\n",
              "\n",
              "<svg xmlns=\"http://www.w3.org/2000/svg\" height=\"24px\"viewBox=\"0 0 24 24\"\n",
              "     width=\"24px\">\n",
              "    <g>\n",
              "        <path d=\"M19 3H5c-1.1 0-2 .9-2 2v14c0 1.1.9 2 2 2h14c1.1 0 2-.9 2-2V5c0-1.1-.9-2-2-2zM9 17H7v-7h2v7zm4 0h-2V7h2v10zm4 0h-2v-4h2v4z\"/>\n",
              "    </g>\n",
              "</svg>\n",
              "      </button>\n",
              "\n",
              "<style>\n",
              "  .colab-df-quickchart {\n",
              "      --bg-color: #E8F0FE;\n",
              "      --fill-color: #1967D2;\n",
              "      --hover-bg-color: #E2EBFA;\n",
              "      --hover-fill-color: #174EA6;\n",
              "      --disabled-fill-color: #AAA;\n",
              "      --disabled-bg-color: #DDD;\n",
              "  }\n",
              "\n",
              "  [theme=dark] .colab-df-quickchart {\n",
              "      --bg-color: #3B4455;\n",
              "      --fill-color: #D2E3FC;\n",
              "      --hover-bg-color: #434B5C;\n",
              "      --hover-fill-color: #FFFFFF;\n",
              "      --disabled-bg-color: #3B4455;\n",
              "      --disabled-fill-color: #666;\n",
              "  }\n",
              "\n",
              "  .colab-df-quickchart {\n",
              "    background-color: var(--bg-color);\n",
              "    border: none;\n",
              "    border-radius: 50%;\n",
              "    cursor: pointer;\n",
              "    display: none;\n",
              "    fill: var(--fill-color);\n",
              "    height: 32px;\n",
              "    padding: 0;\n",
              "    width: 32px;\n",
              "  }\n",
              "\n",
              "  .colab-df-quickchart:hover {\n",
              "    background-color: var(--hover-bg-color);\n",
              "    box-shadow: 0 1px 2px rgba(60, 64, 67, 0.3), 0 1px 3px 1px rgba(60, 64, 67, 0.15);\n",
              "    fill: var(--button-hover-fill-color);\n",
              "  }\n",
              "\n",
              "  .colab-df-quickchart-complete:disabled,\n",
              "  .colab-df-quickchart-complete:disabled:hover {\n",
              "    background-color: var(--disabled-bg-color);\n",
              "    fill: var(--disabled-fill-color);\n",
              "    box-shadow: none;\n",
              "  }\n",
              "\n",
              "  .colab-df-spinner {\n",
              "    border: 2px solid var(--fill-color);\n",
              "    border-color: transparent;\n",
              "    border-bottom-color: var(--fill-color);\n",
              "    animation:\n",
              "      spin 1s steps(1) infinite;\n",
              "  }\n",
              "\n",
              "  @keyframes spin {\n",
              "    0% {\n",
              "      border-color: transparent;\n",
              "      border-bottom-color: var(--fill-color);\n",
              "      border-left-color: var(--fill-color);\n",
              "    }\n",
              "    20% {\n",
              "      border-color: transparent;\n",
              "      border-left-color: var(--fill-color);\n",
              "      border-top-color: var(--fill-color);\n",
              "    }\n",
              "    30% {\n",
              "      border-color: transparent;\n",
              "      border-left-color: var(--fill-color);\n",
              "      border-top-color: var(--fill-color);\n",
              "      border-right-color: var(--fill-color);\n",
              "    }\n",
              "    40% {\n",
              "      border-color: transparent;\n",
              "      border-right-color: var(--fill-color);\n",
              "      border-top-color: var(--fill-color);\n",
              "    }\n",
              "    60% {\n",
              "      border-color: transparent;\n",
              "      border-right-color: var(--fill-color);\n",
              "    }\n",
              "    80% {\n",
              "      border-color: transparent;\n",
              "      border-right-color: var(--fill-color);\n",
              "      border-bottom-color: var(--fill-color);\n",
              "    }\n",
              "    90% {\n",
              "      border-color: transparent;\n",
              "      border-bottom-color: var(--fill-color);\n",
              "    }\n",
              "  }\n",
              "</style>\n",
              "\n",
              "      <script>\n",
              "        async function quickchart(key) {\n",
              "          const quickchartButtonEl =\n",
              "            document.querySelector('#' + key + ' button');\n",
              "          quickchartButtonEl.disabled = true;  // To prevent multiple clicks.\n",
              "          quickchartButtonEl.classList.add('colab-df-spinner');\n",
              "          try {\n",
              "            const charts = await google.colab.kernel.invokeFunction(\n",
              "                'suggestCharts', [key], {});\n",
              "          } catch (error) {\n",
              "            console.error('Error during call to suggestCharts:', error);\n",
              "          }\n",
              "          quickchartButtonEl.classList.remove('colab-df-spinner');\n",
              "          quickchartButtonEl.classList.add('colab-df-quickchart-complete');\n",
              "        }\n",
              "        (() => {\n",
              "          let quickchartButtonEl =\n",
              "            document.querySelector('#df-70974659-5b2d-4b74-86b6-712a65a27adc button');\n",
              "          quickchartButtonEl.style.display =\n",
              "            google.colab.kernel.accessAllowed ? 'block' : 'none';\n",
              "        })();\n",
              "      </script>\n",
              "    </div>\n",
              "\n",
              "    </div>\n",
              "  </div>\n"
            ],
            "application/vnd.google.colaboratory.intrinsic+json": {
              "type": "dataframe",
              "variable_name": "matches_df",
              "summary": "{\n  \"name\": \"matches_df\",\n  \"rows\": 100,\n  \"fields\": [\n    {\n      \"column\": \"Variation_Name\",\n      \"properties\": {\n        \"dtype\": \"string\",\n        \"num_unique_values\": 80,\n        \"samples\": [\n          \"Robert  Lee\",\n          \"Thomas  King\",\n          \"Robert L.\"\n        ],\n        \"semantic_type\": \"\",\n        \"description\": \"\"\n      }\n    },\n    {\n      \"column\": \"Matched_Base_Name\",\n      \"properties\": {\n        \"dtype\": \"category\",\n        \"num_unique_values\": 20,\n        \"samples\": [\n          \"Thomas King\",\n          \"David Martinez\",\n          \"Robert Lee\"\n        ],\n        \"semantic_type\": \"\",\n        \"description\": \"\"\n      }\n    },\n    {\n      \"column\": \"Score\",\n      \"properties\": {\n        \"dtype\": \"number\",\n        \"std\": 3.9996360416724754,\n        \"min\": 82.0,\n        \"max\": 100.0,\n        \"num_unique_values\": 10,\n        \"samples\": [\n          82.0,\n          96.0,\n          89.0\n        ],\n        \"semantic_type\": \"\",\n        \"description\": \"\"\n      }\n    }\n  ]\n}"
            }
          },
          "metadata": {},
          "execution_count": 70
        }
      ]
    },
    {
      "cell_type": "markdown",
      "source": [
        "## Results"
      ],
      "metadata": {
        "id": "CWtVjViwYkZ9"
      }
    },
    {
      "cell_type": "code",
      "source": [
        "from sklearn.metrics import accuracy_score\n",
        "\n",
        "y_true = name_variations['Matches_With_Base_Name'].fillna(\"No Match\")\n",
        "y_pred = matches_df['Matched_Base_Name'].fillna(\"No Match\")\n",
        "\n",
        "accuracy_score(y_true, y_pred)"
      ],
      "metadata": {
        "colab": {
          "base_uri": "https://localhost:8080/"
        },
        "id": "vOS9fu2tWGYR",
        "outputId": "535970b1-fbe3-4d7b-db01-4d3d800b17f8"
      },
      "execution_count": 71,
      "outputs": [
        {
          "output_type": "execute_result",
          "data": {
            "text/plain": [
              "0.95"
            ]
          },
          "metadata": {},
          "execution_count": 71
        }
      ]
    }
  ]
}
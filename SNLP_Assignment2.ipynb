{
  "nbformat": 4,
  "nbformat_minor": 0,
  "metadata": {
    "colab": {
      "provenance": []
    },
    "kernelspec": {
      "name": "python3",
      "display_name": "Python 3"
    },
    "language_info": {
      "name": "python"
    }
  },
  "cells": [
    {
      "cell_type": "markdown",
      "source": [
        "#**Part 2**"
      ],
      "metadata": {
        "id": "ahk4U3fACymZ"
      }
    },
    {
      "cell_type": "markdown",
      "source": [
        "# Importing the necessary libraries"
      ],
      "metadata": {
        "id": "JwMyKipOO_0M"
      }
    },
    {
      "cell_type": "code",
      "execution_count": 7,
      "metadata": {
        "id": "vQx69ZFPApQL"
      },
      "outputs": [],
      "source": [
        "import pandas as pd\n",
        "import re"
      ]
    },
    {
      "cell_type": "markdown",
      "source": [
        "# Creating a function to normalise date strings by removing ordinal suffixes,converting text to lower and normalize it as well"
      ],
      "metadata": {
        "id": "fR2nPUk_PHhp"
      }
    },
    {
      "cell_type": "code",
      "source": [
        "def normalize_date_text(text):\n",
        "    text = re.sub(r'(\\d+)(st|nd|rd|th)', r'\\1', text)\n",
        "    text = text.replace(',', '').lower()\n",
        "    return text"
      ],
      "metadata": {
        "id": "DiyFR5zZAxUK"
      },
      "execution_count": 8,
      "outputs": []
    },
    {
      "cell_type": "markdown",
      "source": [
        "# Mapping and formatting"
      ],
      "metadata": {
        "id": "4fyqqhy0QotS"
      }
    },
    {
      "cell_type": "code",
      "source": [
        "def improved_extract_date(text):\n",
        "    text = normalize_date_text(text)\n",
        "\n",
        "    months = {\n",
        "        'jan': '01', 'january': '01',\n",
        "        'feb': '02', 'february': '02',\n",
        "        'mar': '03', 'march': '03',\n",
        "        'apr': '04', 'april': '04',\n",
        "        'may': '05',\n",
        "        'jun': '06', 'june': '06',\n",
        "        'jul': '07', 'july': '07',\n",
        "        'aug': '08', 'august': '08',\n",
        "        'sep': '09', 'sept': '09', 'september': '09',\n",
        "        'oct': '10', 'october': '10',\n",
        "        'nov': '11', 'november': '11',\n",
        "        'dec': '12', 'december': '12'\n",
        "    }\n",
        "\n",
        "    patterns = [\n",
        "        (r'\\b(\\d{1,2})[./-](\\d{1,2})[./-](\\d{2,4})\\b', lambda d: (\n",
        "            d[0].zfill(2), d[1].zfill(2), '20' + d[2] if len(d[2]) == 2 else d[2])),\n",
        "\n",
        "        (r'\\b(\\d{4})[/-](\\d{1,2})[/-](\\d{1,2})\\b', lambda d: (\n",
        "            d[2].zfill(2), d[1].zfill(2), d[0])),\n",
        "\n",
        "        (r'\\b(\\d{1,2})\\s+(?:of\\s+)?([a-zA-Z]+)\\s+(\\d{4})\\b', lambda d: (\n",
        "            d[0].zfill(2), months.get(d[1][:3], '00'), d[2])),\n",
        "\n",
        "        (r'\\b([a-zA-Z]+)\\s+(\\d{1,2})\\s+(\\d{4})\\b', lambda d: (\n",
        "            d[1].zfill(2), months.get(d[0][:3], '00'), d[2])),\n",
        "\n",
        "        (r'\\b(\\d{1,2})\\s+([a-zA-Z]+)\\s+(\\d{4})\\b', lambda d: (\n",
        "            d[0].zfill(2), months.get(d[1][:3], '00'), d[2]))\n",
        "    ]\n",
        "\n",
        "    for pattern, formatter in patterns:\n",
        "        match = re.search(pattern, text)\n",
        "        if match:\n",
        "            try:\n",
        "                d, m, y = formatter(match.groups())\n",
        "                if d != '00' and m != '00' and len(y) == 4:\n",
        "                    return f\"{d}/{m}/{y}\"\n",
        "            except:\n",
        "                continue\n",
        "    return \"Could not parse\""
      ],
      "metadata": {
        "id": "SfHbaBjjB1kI"
      },
      "execution_count": 9,
      "outputs": []
    },
    {
      "cell_type": "markdown",
      "source": [
        "# Loading the dataset for testing"
      ],
      "metadata": {
        "id": "DYLqKAE5QTa6"
      }
    },
    {
      "cell_type": "code",
      "source": [
        "df = pd.read_csv('date_parser_testcases.csv')\n"
      ],
      "metadata": {
        "id": "WFz8_yD9B3RG"
      },
      "execution_count": 10,
      "outputs": []
    },
    {
      "cell_type": "markdown",
      "source": [
        "# Applying the function"
      ],
      "metadata": {
        "id": "GZ-Y3WZsQXiF"
      }
    },
    {
      "cell_type": "code",
      "source": [
        "df['Parsed Output'] = df['Input'].apply(improved_extract_date)\n",
        "df['Correct'] = df['Parsed Output'] == df['Expected Output']\n"
      ],
      "metadata": {
        "id": "EIIKNlKxB-r_"
      },
      "execution_count": 11,
      "outputs": []
    },
    {
      "cell_type": "markdown",
      "source": [
        "# Evaluation"
      ],
      "metadata": {
        "id": "Ejxnz-NhQc4C"
      }
    },
    {
      "cell_type": "code",
      "source": [
        "accuracy = df['Correct'].mean()\n",
        "print(f\"Accuracy: {accuracy:.2%}\")\n",
        "df[['Input', 'Parsed Output', 'Expected Output', 'Correct']].head(10)\n"
      ],
      "metadata": {
        "id": "XBryCZ1HDXL2"
      },
      "execution_count": null,
      "outputs": []
    },
    {
      "cell_type": "markdown",
      "source": [
        "# Own test"
      ],
      "metadata": {
        "id": "RnbUsNY4Qf-0"
      }
    },
    {
      "cell_type": "code",
      "source": [
        "text = \"My birthdays on March 2, 2024\""
      ],
      "metadata": {
        "id": "uq7LqZkpDnCn"
      },
      "execution_count": 15,
      "outputs": []
    },
    {
      "cell_type": "code",
      "source": [
        "improved_extract_date(text)\n"
      ],
      "metadata": {
        "colab": {
          "base_uri": "https://localhost:8080/",
          "height": 35
        },
        "id": "eeydCOZjD5En",
        "outputId": "13d767e4-a4c0-48f0-e8f1-86b5be4fee92"
      },
      "execution_count": 96,
      "outputs": [
        {
          "output_type": "execute_result",
          "data": {
            "text/plain": [
              "'02/03/2024'"
            ],
            "application/vnd.google.colaboratory.intrinsic+json": {
              "type": "string"
            }
          },
          "metadata": {},
          "execution_count": 96
        }
      ]
    },
    {
      "cell_type": "markdown",
      "source": [
        "#**Part 3**"
      ],
      "metadata": {
        "id": "S-Am2Sd0CsqN"
      }
    },
    {
      "cell_type": "markdown",
      "source": [
        "# Downloading SpaCy"
      ],
      "metadata": {
        "id": "Onx2GYTZQs4P"
      }
    },
    {
      "cell_type": "code",
      "source": [
        "!pip install spacy\n",
        "!python -m spacy download en_core_web_sm\n"
      ],
      "metadata": {
        "colab": {
          "base_uri": "https://localhost:8080/"
        },
        "id": "UEr2vdxLCFi3",
        "outputId": "ddcf9f1e-39b8-431c-e788-09ae8f8dae4a"
      },
      "execution_count": 26,
      "outputs": [
        {
          "output_type": "stream",
          "name": "stdout",
          "text": [
            "Requirement already satisfied: spacy in /usr/local/lib/python3.11/dist-packages (3.8.7)\n",
            "Requirement already satisfied: spacy-legacy<3.1.0,>=3.0.11 in /usr/local/lib/python3.11/dist-packages (from spacy) (3.0.12)\n",
            "Requirement already satisfied: spacy-loggers<2.0.0,>=1.0.0 in /usr/local/lib/python3.11/dist-packages (from spacy) (1.0.5)\n",
            "Requirement already satisfied: murmurhash<1.1.0,>=0.28.0 in /usr/local/lib/python3.11/dist-packages (from spacy) (1.0.13)\n",
            "Requirement already satisfied: cymem<2.1.0,>=2.0.2 in /usr/local/lib/python3.11/dist-packages (from spacy) (2.0.11)\n",
            "Requirement already satisfied: preshed<3.1.0,>=3.0.2 in /usr/local/lib/python3.11/dist-packages (from spacy) (3.0.10)\n",
            "Requirement already satisfied: thinc<8.4.0,>=8.3.4 in /usr/local/lib/python3.11/dist-packages (from spacy) (8.3.6)\n",
            "Requirement already satisfied: wasabi<1.2.0,>=0.9.1 in /usr/local/lib/python3.11/dist-packages (from spacy) (1.1.3)\n",
            "Requirement already satisfied: srsly<3.0.0,>=2.4.3 in /usr/local/lib/python3.11/dist-packages (from spacy) (2.5.1)\n",
            "Requirement already satisfied: catalogue<2.1.0,>=2.0.6 in /usr/local/lib/python3.11/dist-packages (from spacy) (2.0.10)\n",
            "Requirement already satisfied: weasel<0.5.0,>=0.1.0 in /usr/local/lib/python3.11/dist-packages (from spacy) (0.4.1)\n",
            "Requirement already satisfied: typer<1.0.0,>=0.3.0 in /usr/local/lib/python3.11/dist-packages (from spacy) (0.16.0)\n",
            "Requirement already satisfied: tqdm<5.0.0,>=4.38.0 in /usr/local/lib/python3.11/dist-packages (from spacy) (4.67.1)\n",
            "Requirement already satisfied: numpy>=1.19.0 in /usr/local/lib/python3.11/dist-packages (from spacy) (2.0.2)\n",
            "Requirement already satisfied: requests<3.0.0,>=2.13.0 in /usr/local/lib/python3.11/dist-packages (from spacy) (2.32.3)\n",
            "Requirement already satisfied: pydantic!=1.8,!=1.8.1,<3.0.0,>=1.7.4 in /usr/local/lib/python3.11/dist-packages (from spacy) (2.11.7)\n",
            "Requirement already satisfied: jinja2 in /usr/local/lib/python3.11/dist-packages (from spacy) (3.1.6)\n",
            "Requirement already satisfied: setuptools in /usr/local/lib/python3.11/dist-packages (from spacy) (75.2.0)\n",
            "Requirement already satisfied: packaging>=20.0 in /usr/local/lib/python3.11/dist-packages (from spacy) (25.0)\n",
            "Requirement already satisfied: langcodes<4.0.0,>=3.2.0 in /usr/local/lib/python3.11/dist-packages (from spacy) (3.5.0)\n",
            "Requirement already satisfied: language-data>=1.2 in /usr/local/lib/python3.11/dist-packages (from langcodes<4.0.0,>=3.2.0->spacy) (1.3.0)\n",
            "Requirement already satisfied: annotated-types>=0.6.0 in /usr/local/lib/python3.11/dist-packages (from pydantic!=1.8,!=1.8.1,<3.0.0,>=1.7.4->spacy) (0.7.0)\n",
            "Requirement already satisfied: pydantic-core==2.33.2 in /usr/local/lib/python3.11/dist-packages (from pydantic!=1.8,!=1.8.1,<3.0.0,>=1.7.4->spacy) (2.33.2)\n",
            "Requirement already satisfied: typing-extensions>=4.12.2 in /usr/local/lib/python3.11/dist-packages (from pydantic!=1.8,!=1.8.1,<3.0.0,>=1.7.4->spacy) (4.14.1)\n",
            "Requirement already satisfied: typing-inspection>=0.4.0 in /usr/local/lib/python3.11/dist-packages (from pydantic!=1.8,!=1.8.1,<3.0.0,>=1.7.4->spacy) (0.4.1)\n",
            "Requirement already satisfied: charset-normalizer<4,>=2 in /usr/local/lib/python3.11/dist-packages (from requests<3.0.0,>=2.13.0->spacy) (3.4.2)\n",
            "Requirement already satisfied: idna<4,>=2.5 in /usr/local/lib/python3.11/dist-packages (from requests<3.0.0,>=2.13.0->spacy) (3.10)\n",
            "Requirement already satisfied: urllib3<3,>=1.21.1 in /usr/local/lib/python3.11/dist-packages (from requests<3.0.0,>=2.13.0->spacy) (2.5.0)\n",
            "Requirement already satisfied: certifi>=2017.4.17 in /usr/local/lib/python3.11/dist-packages (from requests<3.0.0,>=2.13.0->spacy) (2025.7.14)\n",
            "Requirement already satisfied: blis<1.4.0,>=1.3.0 in /usr/local/lib/python3.11/dist-packages (from thinc<8.4.0,>=8.3.4->spacy) (1.3.0)\n",
            "Requirement already satisfied: confection<1.0.0,>=0.0.1 in /usr/local/lib/python3.11/dist-packages (from thinc<8.4.0,>=8.3.4->spacy) (0.1.5)\n",
            "Requirement already satisfied: click>=8.0.0 in /usr/local/lib/python3.11/dist-packages (from typer<1.0.0,>=0.3.0->spacy) (8.2.1)\n",
            "Requirement already satisfied: shellingham>=1.3.0 in /usr/local/lib/python3.11/dist-packages (from typer<1.0.0,>=0.3.0->spacy) (1.5.4)\n",
            "Requirement already satisfied: rich>=10.11.0 in /usr/local/lib/python3.11/dist-packages (from typer<1.0.0,>=0.3.0->spacy) (13.9.4)\n",
            "Requirement already satisfied: cloudpathlib<1.0.0,>=0.7.0 in /usr/local/lib/python3.11/dist-packages (from weasel<0.5.0,>=0.1.0->spacy) (0.21.1)\n",
            "Requirement already satisfied: smart-open<8.0.0,>=5.2.1 in /usr/local/lib/python3.11/dist-packages (from weasel<0.5.0,>=0.1.0->spacy) (7.3.0.post1)\n",
            "Requirement already satisfied: MarkupSafe>=2.0 in /usr/local/lib/python3.11/dist-packages (from jinja2->spacy) (3.0.2)\n",
            "Requirement already satisfied: marisa-trie>=1.1.0 in /usr/local/lib/python3.11/dist-packages (from language-data>=1.2->langcodes<4.0.0,>=3.2.0->spacy) (1.2.1)\n",
            "Requirement already satisfied: markdown-it-py>=2.2.0 in /usr/local/lib/python3.11/dist-packages (from rich>=10.11.0->typer<1.0.0,>=0.3.0->spacy) (3.0.0)\n",
            "Requirement already satisfied: pygments<3.0.0,>=2.13.0 in /usr/local/lib/python3.11/dist-packages (from rich>=10.11.0->typer<1.0.0,>=0.3.0->spacy) (2.19.2)\n",
            "Requirement already satisfied: wrapt in /usr/local/lib/python3.11/dist-packages (from smart-open<8.0.0,>=5.2.1->weasel<0.5.0,>=0.1.0->spacy) (1.17.2)\n",
            "Requirement already satisfied: mdurl~=0.1 in /usr/local/lib/python3.11/dist-packages (from markdown-it-py>=2.2.0->rich>=10.11.0->typer<1.0.0,>=0.3.0->spacy) (0.1.2)\n",
            "Collecting en-core-web-sm==3.8.0\n",
            "  Downloading https://github.com/explosion/spacy-models/releases/download/en_core_web_sm-3.8.0/en_core_web_sm-3.8.0-py3-none-any.whl (12.8 MB)\n",
            "\u001b[2K     \u001b[90m━━━━━━━━━━━━━━━━━━━━━━━━━━━━━━━━━━━━━━━━\u001b[0m \u001b[32m12.8/12.8 MB\u001b[0m \u001b[31m96.3 MB/s\u001b[0m eta \u001b[36m0:00:00\u001b[0m\n",
            "\u001b[?25h\u001b[38;5;2m✔ Download and installation successful\u001b[0m\n",
            "You can now load the package via spacy.load('en_core_web_sm')\n",
            "\u001b[38;5;3m⚠ Restart to reload dependencies\u001b[0m\n",
            "If you are in a Jupyter or Colab notebook, you may need to restart Python in\n",
            "order to load all the package's dependencies. You can do this by selecting the\n",
            "'Restart kernel' or 'Restart runtime' option.\n"
          ]
        }
      ]
    },
    {
      "cell_type": "markdown",
      "source": [
        "# Loading the libraries"
      ],
      "metadata": {
        "id": "aYgEU6HsQwlN"
      }
    },
    {
      "cell_type": "code",
      "source": [
        "import spacy\n",
        "import pandas as pd\n"
      ],
      "metadata": {
        "id": "QWBjM7c4FqJt"
      },
      "execution_count": 85,
      "outputs": []
    },
    {
      "cell_type": "markdown",
      "source": [
        "# Loading the spacy pre-trained model"
      ],
      "metadata": {
        "id": "AcOd7hn0RCyb"
      }
    },
    {
      "cell_type": "code",
      "source": [
        "nlp = spacy.load(\"en_core_web_sm\")"
      ],
      "metadata": {
        "id": "NJPMUz29Frl4"
      },
      "execution_count": 86,
      "outputs": []
    },
    {
      "cell_type": "markdown",
      "source": [
        "# Mapping the Swap"
      ],
      "metadata": {
        "id": "-g9PvoQARNRj"
      }
    },
    {
      "cell_type": "code",
      "source": [
        "PRONOUN_SWAP = {\n",
        "    'male': {\n",
        "        'he': 'she',\n",
        "        'him': 'her',\n",
        "        'his': ('her', 'hers'),\n",
        "        'himself': 'herself'\n",
        "    },\n",
        "    'female': {\n",
        "        'she': 'he',\n",
        "        'her': 'him',\n",
        "        'hers': 'his',\n",
        "        'herself': 'himself'\n",
        "    }\n",
        "}"
      ],
      "metadata": {
        "id": "MjXa5Od-F57J"
      },
      "execution_count": 87,
      "outputs": []
    },
    {
      "cell_type": "markdown",
      "source": [
        "# Function to swap the pronouns, using SpaCy's dependencies"
      ],
      "metadata": {
        "id": "HytjnWGeSTef"
      }
    },
    {
      "cell_type": "code",
      "source": [
        "def spacy_pronoun_swap(sentence, target_gender):\n",
        "    doc = nlp(sentence)\n",
        "    opposite_gender = 'female' if target_gender == 'male' else 'male'\n",
        "    new_tokens = []\n",
        "\n",
        "    for token in doc:\n",
        "        word = token.text\n",
        "        lower_word = word.lower()\n",
        "\n",
        "        if lower_word in PRONOUN_SWAP[target_gender]:\n",
        "            if lower_word in ('his', 'her'):\n",
        "                if token.dep_ in ['poss', 'possessive', 'nmod']:\n",
        "                    replacement = PRONOUN_SWAP[target_gender][lower_word][0]\n",
        "                else:\n",
        "                    replacement = PRONOUN_SWAP[target_gender][lower_word][1] if isinstance(PRONOUN_SWAP[target_gender][lower_word], tuple) else PRONOUN_SWAP[target_gender][lower_word]\n",
        "            else:\n",
        "                replacement = PRONOUN_SWAP[target_gender][lower_word]\n",
        "\n",
        "            replacement = match_capitalization(word, replacement)\n",
        "            new_tokens.append(replacement)\n",
        "        else:\n",
        "            new_tokens.append(word)\n",
        "\n",
        "    # Return a clean string instead of a list\n",
        "    return spacy.tokens.Doc(doc.vocab, words=new_tokens).text\n"
      ],
      "metadata": {
        "id": "neegsIOxENcx"
      },
      "execution_count": 88,
      "outputs": []
    },
    {
      "cell_type": "markdown",
      "source": [
        "# Loading the dataset"
      ],
      "metadata": {
        "id": "n9rHPRhuRxs4"
      }
    },
    {
      "cell_type": "code",
      "source": [
        "df = pd.read_csv(\"/content/pronoun_testcases.csv\")\n",
        "df['predicted_output'] = df.apply(lambda row: spacy_pronoun_swap(row['input_text'], row['target_gender']), axis=1)\n"
      ],
      "metadata": {
        "id": "_iY92P2FFWnA"
      },
      "execution_count": 89,
      "outputs": []
    },
    {
      "cell_type": "markdown",
      "source": [
        "# Results"
      ],
      "metadata": {
        "id": "jPb1ZRnTR4MI"
      }
    },
    {
      "cell_type": "code",
      "source": [
        "df"
      ],
      "metadata": {
        "colab": {
          "base_uri": "https://localhost:8080/",
          "height": 865
        },
        "id": "DbNBYUIoGeFw",
        "outputId": "bebf62c8-ecf4-4ffa-86d9-3025720d7da2"
      },
      "execution_count": 90,
      "outputs": [
        {
          "output_type": "execute_result",
          "data": {
            "text/plain": [
              "                             input_text target_gender  \\\n",
              "0            He is going to the market.        female   \n",
              "1             His book is on the table.        female   \n",
              "2                  I saw him yesterday.        female   \n",
              "3                      He hurt himself.        female   \n",
              "4              I called him last night.        female   \n",
              "5                      That is his car.        female   \n",
              "6            He told me about his trip.        female   \n",
              "7       The teacher gave him a warning.        female   \n",
              "8    He blames himself for the mistake.        female   \n",
              "9                He brought his laptop.        female   \n",
              "10                  He made it himself.        female   \n",
              "11           I don’t like his attitude.        female   \n",
              "12               Tell him to come here.        female   \n",
              "13          She is going to the market.          male   \n",
              "14            Her book is on the table.          male   \n",
              "15                 I saw her yesterday.          male   \n",
              "16                    She hurt herself.          male   \n",
              "17             I called her last night.          male   \n",
              "18                     That is her car.          male   \n",
              "19          She told me about her trip.          male   \n",
              "20      The teacher gave her a warning.          male   \n",
              "21  She blames herself for the mistake.          male   \n",
              "22              She brought her laptop.          male   \n",
              "23                 She made it herself.          male   \n",
              "24           I don’t like her attitude.          male   \n",
              "25               Tell her to come here.          male   \n",
              "\n",
              "                        expected_output                       predicted_output  \n",
              "0           She is going to the market.           He is going to the market .   \n",
              "1             Her book is on the table.            His book is on the table .   \n",
              "2                  I saw her yesterday.                 I saw him yesterday .   \n",
              "3                     She hurt herself.                     He hurt himself .   \n",
              "4              I called her last night.             I called him last night .   \n",
              "5                      That is her car.                     That is his car .   \n",
              "6           She told me about her trip.           He told me about his trip .   \n",
              "7       The teacher gave her a warning.      The teacher gave him a warning .   \n",
              "8   She blames herself for the mistake.   He blames himself for the mistake .   \n",
              "9               She brought her laptop.               He brought his laptop .   \n",
              "10                 She made it herself.                  He made it himself .   \n",
              "11           I don’t like her attitude.          I do n’t like his attitude .   \n",
              "12               Tell her to come here.               Tell him to come here .   \n",
              "13           He is going to the market.          She is going to the market .   \n",
              "14            His book is on the table.            Her book is on the table .   \n",
              "15                 I saw him yesterday.                 I saw her yesterday .   \n",
              "16                     He hurt himself.                    She hurt herself .   \n",
              "17             I called him last night.             I called her last night .   \n",
              "18                     That is his car.                     That is her car .   \n",
              "19           He told me about his trip.          She told me about her trip .   \n",
              "20      The teacher gave him a warning.      The teacher gave her a warning .   \n",
              "21   He blames himself for the mistake.  She blames herself for the mistake .   \n",
              "22               He brought his laptop.              She brought her laptop .   \n",
              "23                  He made it himself.                 She made it herself .   \n",
              "24           I don’t like his attitude.          I do n’t like her attitude .   \n",
              "25               Tell him to come here.               Tell her to come here .   "
            ],
            "text/html": [
              "\n",
              "  <div id=\"df-611219c1-32df-4909-8824-62810d16608a\" class=\"colab-df-container\">\n",
              "    <div>\n",
              "<style scoped>\n",
              "    .dataframe tbody tr th:only-of-type {\n",
              "        vertical-align: middle;\n",
              "    }\n",
              "\n",
              "    .dataframe tbody tr th {\n",
              "        vertical-align: top;\n",
              "    }\n",
              "\n",
              "    .dataframe thead th {\n",
              "        text-align: right;\n",
              "    }\n",
              "</style>\n",
              "<table border=\"1\" class=\"dataframe\">\n",
              "  <thead>\n",
              "    <tr style=\"text-align: right;\">\n",
              "      <th></th>\n",
              "      <th>input_text</th>\n",
              "      <th>target_gender</th>\n",
              "      <th>expected_output</th>\n",
              "      <th>predicted_output</th>\n",
              "    </tr>\n",
              "  </thead>\n",
              "  <tbody>\n",
              "    <tr>\n",
              "      <th>0</th>\n",
              "      <td>He is going to the market.</td>\n",
              "      <td>female</td>\n",
              "      <td>She is going to the market.</td>\n",
              "      <td>He is going to the market .</td>\n",
              "    </tr>\n",
              "    <tr>\n",
              "      <th>1</th>\n",
              "      <td>His book is on the table.</td>\n",
              "      <td>female</td>\n",
              "      <td>Her book is on the table.</td>\n",
              "      <td>His book is on the table .</td>\n",
              "    </tr>\n",
              "    <tr>\n",
              "      <th>2</th>\n",
              "      <td>I saw him yesterday.</td>\n",
              "      <td>female</td>\n",
              "      <td>I saw her yesterday.</td>\n",
              "      <td>I saw him yesterday .</td>\n",
              "    </tr>\n",
              "    <tr>\n",
              "      <th>3</th>\n",
              "      <td>He hurt himself.</td>\n",
              "      <td>female</td>\n",
              "      <td>She hurt herself.</td>\n",
              "      <td>He hurt himself .</td>\n",
              "    </tr>\n",
              "    <tr>\n",
              "      <th>4</th>\n",
              "      <td>I called him last night.</td>\n",
              "      <td>female</td>\n",
              "      <td>I called her last night.</td>\n",
              "      <td>I called him last night .</td>\n",
              "    </tr>\n",
              "    <tr>\n",
              "      <th>5</th>\n",
              "      <td>That is his car.</td>\n",
              "      <td>female</td>\n",
              "      <td>That is her car.</td>\n",
              "      <td>That is his car .</td>\n",
              "    </tr>\n",
              "    <tr>\n",
              "      <th>6</th>\n",
              "      <td>He told me about his trip.</td>\n",
              "      <td>female</td>\n",
              "      <td>She told me about her trip.</td>\n",
              "      <td>He told me about his trip .</td>\n",
              "    </tr>\n",
              "    <tr>\n",
              "      <th>7</th>\n",
              "      <td>The teacher gave him a warning.</td>\n",
              "      <td>female</td>\n",
              "      <td>The teacher gave her a warning.</td>\n",
              "      <td>The teacher gave him a warning .</td>\n",
              "    </tr>\n",
              "    <tr>\n",
              "      <th>8</th>\n",
              "      <td>He blames himself for the mistake.</td>\n",
              "      <td>female</td>\n",
              "      <td>She blames herself for the mistake.</td>\n",
              "      <td>He blames himself for the mistake .</td>\n",
              "    </tr>\n",
              "    <tr>\n",
              "      <th>9</th>\n",
              "      <td>He brought his laptop.</td>\n",
              "      <td>female</td>\n",
              "      <td>She brought her laptop.</td>\n",
              "      <td>He brought his laptop .</td>\n",
              "    </tr>\n",
              "    <tr>\n",
              "      <th>10</th>\n",
              "      <td>He made it himself.</td>\n",
              "      <td>female</td>\n",
              "      <td>She made it herself.</td>\n",
              "      <td>He made it himself .</td>\n",
              "    </tr>\n",
              "    <tr>\n",
              "      <th>11</th>\n",
              "      <td>I don’t like his attitude.</td>\n",
              "      <td>female</td>\n",
              "      <td>I don’t like her attitude.</td>\n",
              "      <td>I do n’t like his attitude .</td>\n",
              "    </tr>\n",
              "    <tr>\n",
              "      <th>12</th>\n",
              "      <td>Tell him to come here.</td>\n",
              "      <td>female</td>\n",
              "      <td>Tell her to come here.</td>\n",
              "      <td>Tell him to come here .</td>\n",
              "    </tr>\n",
              "    <tr>\n",
              "      <th>13</th>\n",
              "      <td>She is going to the market.</td>\n",
              "      <td>male</td>\n",
              "      <td>He is going to the market.</td>\n",
              "      <td>She is going to the market .</td>\n",
              "    </tr>\n",
              "    <tr>\n",
              "      <th>14</th>\n",
              "      <td>Her book is on the table.</td>\n",
              "      <td>male</td>\n",
              "      <td>His book is on the table.</td>\n",
              "      <td>Her book is on the table .</td>\n",
              "    </tr>\n",
              "    <tr>\n",
              "      <th>15</th>\n",
              "      <td>I saw her yesterday.</td>\n",
              "      <td>male</td>\n",
              "      <td>I saw him yesterday.</td>\n",
              "      <td>I saw her yesterday .</td>\n",
              "    </tr>\n",
              "    <tr>\n",
              "      <th>16</th>\n",
              "      <td>She hurt herself.</td>\n",
              "      <td>male</td>\n",
              "      <td>He hurt himself.</td>\n",
              "      <td>She hurt herself .</td>\n",
              "    </tr>\n",
              "    <tr>\n",
              "      <th>17</th>\n",
              "      <td>I called her last night.</td>\n",
              "      <td>male</td>\n",
              "      <td>I called him last night.</td>\n",
              "      <td>I called her last night .</td>\n",
              "    </tr>\n",
              "    <tr>\n",
              "      <th>18</th>\n",
              "      <td>That is her car.</td>\n",
              "      <td>male</td>\n",
              "      <td>That is his car.</td>\n",
              "      <td>That is her car .</td>\n",
              "    </tr>\n",
              "    <tr>\n",
              "      <th>19</th>\n",
              "      <td>She told me about her trip.</td>\n",
              "      <td>male</td>\n",
              "      <td>He told me about his trip.</td>\n",
              "      <td>She told me about her trip .</td>\n",
              "    </tr>\n",
              "    <tr>\n",
              "      <th>20</th>\n",
              "      <td>The teacher gave her a warning.</td>\n",
              "      <td>male</td>\n",
              "      <td>The teacher gave him a warning.</td>\n",
              "      <td>The teacher gave her a warning .</td>\n",
              "    </tr>\n",
              "    <tr>\n",
              "      <th>21</th>\n",
              "      <td>She blames herself for the mistake.</td>\n",
              "      <td>male</td>\n",
              "      <td>He blames himself for the mistake.</td>\n",
              "      <td>She blames herself for the mistake .</td>\n",
              "    </tr>\n",
              "    <tr>\n",
              "      <th>22</th>\n",
              "      <td>She brought her laptop.</td>\n",
              "      <td>male</td>\n",
              "      <td>He brought his laptop.</td>\n",
              "      <td>She brought her laptop .</td>\n",
              "    </tr>\n",
              "    <tr>\n",
              "      <th>23</th>\n",
              "      <td>She made it herself.</td>\n",
              "      <td>male</td>\n",
              "      <td>He made it himself.</td>\n",
              "      <td>She made it herself .</td>\n",
              "    </tr>\n",
              "    <tr>\n",
              "      <th>24</th>\n",
              "      <td>I don’t like her attitude.</td>\n",
              "      <td>male</td>\n",
              "      <td>I don’t like his attitude.</td>\n",
              "      <td>I do n’t like her attitude .</td>\n",
              "    </tr>\n",
              "    <tr>\n",
              "      <th>25</th>\n",
              "      <td>Tell her to come here.</td>\n",
              "      <td>male</td>\n",
              "      <td>Tell him to come here.</td>\n",
              "      <td>Tell her to come here .</td>\n",
              "    </tr>\n",
              "  </tbody>\n",
              "</table>\n",
              "</div>\n",
              "    <div class=\"colab-df-buttons\">\n",
              "\n",
              "  <div class=\"colab-df-container\">\n",
              "    <button class=\"colab-df-convert\" onclick=\"convertToInteractive('df-611219c1-32df-4909-8824-62810d16608a')\"\n",
              "            title=\"Convert this dataframe to an interactive table.\"\n",
              "            style=\"display:none;\">\n",
              "\n",
              "  <svg xmlns=\"http://www.w3.org/2000/svg\" height=\"24px\" viewBox=\"0 -960 960 960\">\n",
              "    <path d=\"M120-120v-720h720v720H120Zm60-500h600v-160H180v160Zm220 220h160v-160H400v160Zm0 220h160v-160H400v160ZM180-400h160v-160H180v160Zm440 0h160v-160H620v160ZM180-180h160v-160H180v160Zm440 0h160v-160H620v160Z\"/>\n",
              "  </svg>\n",
              "    </button>\n",
              "\n",
              "  <style>\n",
              "    .colab-df-container {\n",
              "      display:flex;\n",
              "      gap: 12px;\n",
              "    }\n",
              "\n",
              "    .colab-df-convert {\n",
              "      background-color: #E8F0FE;\n",
              "      border: none;\n",
              "      border-radius: 50%;\n",
              "      cursor: pointer;\n",
              "      display: none;\n",
              "      fill: #1967D2;\n",
              "      height: 32px;\n",
              "      padding: 0 0 0 0;\n",
              "      width: 32px;\n",
              "    }\n",
              "\n",
              "    .colab-df-convert:hover {\n",
              "      background-color: #E2EBFA;\n",
              "      box-shadow: 0px 1px 2px rgba(60, 64, 67, 0.3), 0px 1px 3px 1px rgba(60, 64, 67, 0.15);\n",
              "      fill: #174EA6;\n",
              "    }\n",
              "\n",
              "    .colab-df-buttons div {\n",
              "      margin-bottom: 4px;\n",
              "    }\n",
              "\n",
              "    [theme=dark] .colab-df-convert {\n",
              "      background-color: #3B4455;\n",
              "      fill: #D2E3FC;\n",
              "    }\n",
              "\n",
              "    [theme=dark] .colab-df-convert:hover {\n",
              "      background-color: #434B5C;\n",
              "      box-shadow: 0px 1px 3px 1px rgba(0, 0, 0, 0.15);\n",
              "      filter: drop-shadow(0px 1px 2px rgba(0, 0, 0, 0.3));\n",
              "      fill: #FFFFFF;\n",
              "    }\n",
              "  </style>\n",
              "\n",
              "    <script>\n",
              "      const buttonEl =\n",
              "        document.querySelector('#df-611219c1-32df-4909-8824-62810d16608a button.colab-df-convert');\n",
              "      buttonEl.style.display =\n",
              "        google.colab.kernel.accessAllowed ? 'block' : 'none';\n",
              "\n",
              "      async function convertToInteractive(key) {\n",
              "        const element = document.querySelector('#df-611219c1-32df-4909-8824-62810d16608a');\n",
              "        const dataTable =\n",
              "          await google.colab.kernel.invokeFunction('convertToInteractive',\n",
              "                                                    [key], {});\n",
              "        if (!dataTable) return;\n",
              "\n",
              "        const docLinkHtml = 'Like what you see? Visit the ' +\n",
              "          '<a target=\"_blank\" href=https://colab.research.google.com/notebooks/data_table.ipynb>data table notebook</a>'\n",
              "          + ' to learn more about interactive tables.';\n",
              "        element.innerHTML = '';\n",
              "        dataTable['output_type'] = 'display_data';\n",
              "        await google.colab.output.renderOutput(dataTable, element);\n",
              "        const docLink = document.createElement('div');\n",
              "        docLink.innerHTML = docLinkHtml;\n",
              "        element.appendChild(docLink);\n",
              "      }\n",
              "    </script>\n",
              "  </div>\n",
              "\n",
              "\n",
              "    <div id=\"df-e213fafb-00b7-4ac5-ac4f-01e079ba483b\">\n",
              "      <button class=\"colab-df-quickchart\" onclick=\"quickchart('df-e213fafb-00b7-4ac5-ac4f-01e079ba483b')\"\n",
              "                title=\"Suggest charts\"\n",
              "                style=\"display:none;\">\n",
              "\n",
              "<svg xmlns=\"http://www.w3.org/2000/svg\" height=\"24px\"viewBox=\"0 0 24 24\"\n",
              "     width=\"24px\">\n",
              "    <g>\n",
              "        <path d=\"M19 3H5c-1.1 0-2 .9-2 2v14c0 1.1.9 2 2 2h14c1.1 0 2-.9 2-2V5c0-1.1-.9-2-2-2zM9 17H7v-7h2v7zm4 0h-2V7h2v10zm4 0h-2v-4h2v4z\"/>\n",
              "    </g>\n",
              "</svg>\n",
              "      </button>\n",
              "\n",
              "<style>\n",
              "  .colab-df-quickchart {\n",
              "      --bg-color: #E8F0FE;\n",
              "      --fill-color: #1967D2;\n",
              "      --hover-bg-color: #E2EBFA;\n",
              "      --hover-fill-color: #174EA6;\n",
              "      --disabled-fill-color: #AAA;\n",
              "      --disabled-bg-color: #DDD;\n",
              "  }\n",
              "\n",
              "  [theme=dark] .colab-df-quickchart {\n",
              "      --bg-color: #3B4455;\n",
              "      --fill-color: #D2E3FC;\n",
              "      --hover-bg-color: #434B5C;\n",
              "      --hover-fill-color: #FFFFFF;\n",
              "      --disabled-bg-color: #3B4455;\n",
              "      --disabled-fill-color: #666;\n",
              "  }\n",
              "\n",
              "  .colab-df-quickchart {\n",
              "    background-color: var(--bg-color);\n",
              "    border: none;\n",
              "    border-radius: 50%;\n",
              "    cursor: pointer;\n",
              "    display: none;\n",
              "    fill: var(--fill-color);\n",
              "    height: 32px;\n",
              "    padding: 0;\n",
              "    width: 32px;\n",
              "  }\n",
              "\n",
              "  .colab-df-quickchart:hover {\n",
              "    background-color: var(--hover-bg-color);\n",
              "    box-shadow: 0 1px 2px rgba(60, 64, 67, 0.3), 0 1px 3px 1px rgba(60, 64, 67, 0.15);\n",
              "    fill: var(--button-hover-fill-color);\n",
              "  }\n",
              "\n",
              "  .colab-df-quickchart-complete:disabled,\n",
              "  .colab-df-quickchart-complete:disabled:hover {\n",
              "    background-color: var(--disabled-bg-color);\n",
              "    fill: var(--disabled-fill-color);\n",
              "    box-shadow: none;\n",
              "  }\n",
              "\n",
              "  .colab-df-spinner {\n",
              "    border: 2px solid var(--fill-color);\n",
              "    border-color: transparent;\n",
              "    border-bottom-color: var(--fill-color);\n",
              "    animation:\n",
              "      spin 1s steps(1) infinite;\n",
              "  }\n",
              "\n",
              "  @keyframes spin {\n",
              "    0% {\n",
              "      border-color: transparent;\n",
              "      border-bottom-color: var(--fill-color);\n",
              "      border-left-color: var(--fill-color);\n",
              "    }\n",
              "    20% {\n",
              "      border-color: transparent;\n",
              "      border-left-color: var(--fill-color);\n",
              "      border-top-color: var(--fill-color);\n",
              "    }\n",
              "    30% {\n",
              "      border-color: transparent;\n",
              "      border-left-color: var(--fill-color);\n",
              "      border-top-color: var(--fill-color);\n",
              "      border-right-color: var(--fill-color);\n",
              "    }\n",
              "    40% {\n",
              "      border-color: transparent;\n",
              "      border-right-color: var(--fill-color);\n",
              "      border-top-color: var(--fill-color);\n",
              "    }\n",
              "    60% {\n",
              "      border-color: transparent;\n",
              "      border-right-color: var(--fill-color);\n",
              "    }\n",
              "    80% {\n",
              "      border-color: transparent;\n",
              "      border-right-color: var(--fill-color);\n",
              "      border-bottom-color: var(--fill-color);\n",
              "    }\n",
              "    90% {\n",
              "      border-color: transparent;\n",
              "      border-bottom-color: var(--fill-color);\n",
              "    }\n",
              "  }\n",
              "</style>\n",
              "\n",
              "      <script>\n",
              "        async function quickchart(key) {\n",
              "          const quickchartButtonEl =\n",
              "            document.querySelector('#' + key + ' button');\n",
              "          quickchartButtonEl.disabled = true;  // To prevent multiple clicks.\n",
              "          quickchartButtonEl.classList.add('colab-df-spinner');\n",
              "          try {\n",
              "            const charts = await google.colab.kernel.invokeFunction(\n",
              "                'suggestCharts', [key], {});\n",
              "          } catch (error) {\n",
              "            console.error('Error during call to suggestCharts:', error);\n",
              "          }\n",
              "          quickchartButtonEl.classList.remove('colab-df-spinner');\n",
              "          quickchartButtonEl.classList.add('colab-df-quickchart-complete');\n",
              "        }\n",
              "        (() => {\n",
              "          let quickchartButtonEl =\n",
              "            document.querySelector('#df-e213fafb-00b7-4ac5-ac4f-01e079ba483b button');\n",
              "          quickchartButtonEl.style.display =\n",
              "            google.colab.kernel.accessAllowed ? 'block' : 'none';\n",
              "        })();\n",
              "      </script>\n",
              "    </div>\n",
              "\n",
              "  <div id=\"id_25a7a18d-f487-4303-9232-7847001d3453\">\n",
              "    <style>\n",
              "      .colab-df-generate {\n",
              "        background-color: #E8F0FE;\n",
              "        border: none;\n",
              "        border-radius: 50%;\n",
              "        cursor: pointer;\n",
              "        display: none;\n",
              "        fill: #1967D2;\n",
              "        height: 32px;\n",
              "        padding: 0 0 0 0;\n",
              "        width: 32px;\n",
              "      }\n",
              "\n",
              "      .colab-df-generate:hover {\n",
              "        background-color: #E2EBFA;\n",
              "        box-shadow: 0px 1px 2px rgba(60, 64, 67, 0.3), 0px 1px 3px 1px rgba(60, 64, 67, 0.15);\n",
              "        fill: #174EA6;\n",
              "      }\n",
              "\n",
              "      [theme=dark] .colab-df-generate {\n",
              "        background-color: #3B4455;\n",
              "        fill: #D2E3FC;\n",
              "      }\n",
              "\n",
              "      [theme=dark] .colab-df-generate:hover {\n",
              "        background-color: #434B5C;\n",
              "        box-shadow: 0px 1px 3px 1px rgba(0, 0, 0, 0.15);\n",
              "        filter: drop-shadow(0px 1px 2px rgba(0, 0, 0, 0.3));\n",
              "        fill: #FFFFFF;\n",
              "      }\n",
              "    </style>\n",
              "    <button class=\"colab-df-generate\" onclick=\"generateWithVariable('df')\"\n",
              "            title=\"Generate code using this dataframe.\"\n",
              "            style=\"display:none;\">\n",
              "\n",
              "  <svg xmlns=\"http://www.w3.org/2000/svg\" height=\"24px\"viewBox=\"0 0 24 24\"\n",
              "       width=\"24px\">\n",
              "    <path d=\"M7,19H8.4L18.45,9,17,7.55,7,17.6ZM5,21V16.75L18.45,3.32a2,2,0,0,1,2.83,0l1.4,1.43a1.91,1.91,0,0,1,.58,1.4,1.91,1.91,0,0,1-.58,1.4L9.25,21ZM18.45,9,17,7.55Zm-12,3A5.31,5.31,0,0,0,4.9,8.1,5.31,5.31,0,0,0,1,6.5,5.31,5.31,0,0,0,4.9,4.9,5.31,5.31,0,0,0,6.5,1,5.31,5.31,0,0,0,8.1,4.9,5.31,5.31,0,0,0,12,6.5,5.46,5.46,0,0,0,6.5,12Z\"/>\n",
              "  </svg>\n",
              "    </button>\n",
              "    <script>\n",
              "      (() => {\n",
              "      const buttonEl =\n",
              "        document.querySelector('#id_25a7a18d-f487-4303-9232-7847001d3453 button.colab-df-generate');\n",
              "      buttonEl.style.display =\n",
              "        google.colab.kernel.accessAllowed ? 'block' : 'none';\n",
              "\n",
              "      buttonEl.onclick = () => {\n",
              "        google.colab.notebook.generateWithVariable('df');\n",
              "      }\n",
              "      })();\n",
              "    </script>\n",
              "  </div>\n",
              "\n",
              "    </div>\n",
              "  </div>\n"
            ],
            "application/vnd.google.colaboratory.intrinsic+json": {
              "type": "dataframe",
              "variable_name": "df",
              "summary": "{\n  \"name\": \"df\",\n  \"rows\": 26,\n  \"fields\": [\n    {\n      \"column\": \"input_text\",\n      \"properties\": {\n        \"dtype\": \"string\",\n        \"num_unique_values\": 26,\n        \"samples\": [\n          \"He blames himself for the mistake.\",\n          \"She hurt herself.\",\n          \"He is going to the market.\"\n        ],\n        \"semantic_type\": \"\",\n        \"description\": \"\"\n      }\n    },\n    {\n      \"column\": \"target_gender\",\n      \"properties\": {\n        \"dtype\": \"category\",\n        \"num_unique_values\": 2,\n        \"samples\": [\n          \"male\",\n          \"female\"\n        ],\n        \"semantic_type\": \"\",\n        \"description\": \"\"\n      }\n    },\n    {\n      \"column\": \"expected_output\",\n      \"properties\": {\n        \"dtype\": \"string\",\n        \"num_unique_values\": 26,\n        \"samples\": [\n          \"She blames herself for the mistake.\",\n          \"He hurt himself.\"\n        ],\n        \"semantic_type\": \"\",\n        \"description\": \"\"\n      }\n    },\n    {\n      \"column\": \"predicted_output\",\n      \"properties\": {\n        \"dtype\": \"string\",\n        \"num_unique_values\": 26,\n        \"samples\": [\n          \"He blames himself for the mistake . \",\n          \"She hurt herself . \"\n        ],\n        \"semantic_type\": \"\",\n        \"description\": \"\"\n      }\n    }\n  ]\n}"
            }
          },
          "metadata": {},
          "execution_count": 90
        }
      ]
    },
    {
      "cell_type": "markdown",
      "source": [
        "# Dependencies"
      ],
      "metadata": {
        "id": "VN6edRcaShou"
      }
    },
    {
      "cell_type": "code",
      "source": [
        "sentence = \"Her book is on the table.\"\n",
        "doc = nlp(sentence)\n",
        "\n",
        "for token in doc:\n",
        "    print(f\"{token.text} | {token.dep_} | {token.pos_}\")\n"
      ],
      "metadata": {
        "colab": {
          "base_uri": "https://localhost:8080/"
        },
        "id": "J7UQr6oNJSxH",
        "outputId": "5a39e395-0f3f-4ea6-a2da-947e1c5ec0d8"
      },
      "execution_count": 95,
      "outputs": [
        {
          "output_type": "stream",
          "name": "stdout",
          "text": [
            "Her | poss | PRON\n",
            "book | nsubj | NOUN\n",
            "is | ROOT | AUX\n",
            "on | prep | ADP\n",
            "the | det | DET\n",
            "table | pobj | NOUN\n",
            ". | punct | PUNCT\n"
          ]
        }
      ]
    },
    {
      "cell_type": "code",
      "source": [],
      "metadata": {
        "id": "tVcSb1a9JU3T"
      },
      "execution_count": null,
      "outputs": []
    }
  ]
}